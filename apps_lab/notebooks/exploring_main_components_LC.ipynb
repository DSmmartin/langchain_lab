{
 "cells": [
  {
   "cell_type": "code",
   "execution_count": 1,
   "metadata": {},
   "outputs": [
    {
     "name": "stdout",
     "output_type": "stream",
     "text": [
      "WARNING conda.gateways.disk.delete:unlink_or_rename_to_trash(182): Could not remove or rename /langchain_env/conda-meta/packaging-24.0-pyhd8ed1ab_0.json.  Please remove this file manually (you may need to reboot to free file handles)\n",
      "# packages in environment at /langchain_env:\n",
      "#\n",
      "# Name                    Version                   Build  Channel\n",
      "langchain                 0.1.13                   pypi_0    pypi\n",
      "langchain-community       0.0.29                   pypi_0    pypi\n",
      "langchain-core            0.1.36                   pypi_0    pypi\n",
      "langchain-experimental    0.0.55                   pypi_0    pypi\n",
      "langchain-openai          0.1.1                    pypi_0    pypi\n",
      "langchain-text-splitters  0.0.1                    pypi_0    pypi\n"
     ]
    }
   ],
   "source": [
    "!conda list langchain"
   ]
  },
  {
   "cell_type": "markdown",
   "metadata": {},
   "source": [
    "# 1.OpenAI Function Calling"
   ]
  },
  {
   "cell_type": "code",
   "execution_count": 2,
   "metadata": {},
   "outputs": [],
   "source": [
    "import openai\n",
    "from openai import OpenAI\n",
    "import os\n",
    "openai.__version__\n",
    "\n",
    "client = OpenAI(\n",
    "    api_key=os.environ.get(\"OPENAI_API_KEY\"),\n",
    ")"
   ]
  },
  {
   "cell_type": "code",
   "execution_count": 3,
   "metadata": {},
   "outputs": [],
   "source": [
    "import json\n",
    "\n",
    "# Example dummy function hard coded to return the same weather\n",
    "# In production, this could be your backend API or an external API\n",
    "def get_current_weather(location, unit=\"fahrenheit\"):\n",
    "    \"\"\"Get the current weather in a given location\"\"\"\n",
    "    weather_info = {\n",
    "        \"location\": location,\n",
    "        \"temperature\": \"72\",\n",
    "        \"unit\": unit,\n",
    "        \"forecast\": [\"sunny\", \"windy\"],\n",
    "    }\n",
    "    return json.dumps(weather_info)"
   ]
  },
  {
   "cell_type": "code",
   "execution_count": 4,
   "metadata": {},
   "outputs": [],
   "source": [
    "# define a function\n",
    "functions = [\n",
    "    {\n",
    "        \"name\": \"get_current_weather\",\n",
    "        \"description\": \"Get the current weather in a given location\",\n",
    "        \"parameters\": {\n",
    "            \"type\": \"object\",\n",
    "            \"properties\": {\n",
    "                \"location\": {\n",
    "                    \"type\": \"string\",\n",
    "                    \"description\": \"The city and state, e.g. San Francisco, CA\",\n",
    "                },\n",
    "                \"unit\": {\"type\": \"string\", \"enum\": [\"celsius\", \"fahrenheit\"]},\n",
    "            },\n",
    "            \"required\": [\"location\"],\n",
    "        },\n",
    "    }\n",
    "]"
   ]
  },
  {
   "cell_type": "code",
   "execution_count": 5,
   "metadata": {},
   "outputs": [],
   "source": [
    "messages = [\n",
    "    {\n",
    "        \"role\": \"user\",\n",
    "        \"content\": \"What's the weather like in Boston?\"\n",
    "    }\n",
    "]"
   ]
  },
  {
   "cell_type": "code",
   "execution_count": 6,
   "metadata": {},
   "outputs": [],
   "source": [
    "import os\n",
    "\n",
    "chat_completion = client.chat.completions.create(\n",
    "    messages=messages,\n",
    "    model=\"gpt-3.5-turbo\",\n",
    "    functions=functions,\n",
    "    function_call = \"none\"\n",
    ")"
   ]
  },
  {
   "cell_type": "code",
   "execution_count": 7,
   "metadata": {},
   "outputs": [
    {
     "data": {
      "text/plain": [
       "ChatCompletion(id='chatcmpl-98OGGnWJrb081Ypdu6tKDPpRolIot', choices=[Choice(finish_reason='stop', index=0, logprobs=None, message=ChatCompletionMessage(content='I can help you with that. Let me check the current weather in Boston for you.', role='assistant', function_call=None, tool_calls=None))], created=1711786912, model='gpt-3.5-turbo-0125', object='chat.completion', system_fingerprint='fp_b28b39ffa8', usage=CompletionUsage(completion_tokens=18, prompt_tokens=83, total_tokens=101))"
      ]
     },
     "execution_count": 7,
     "metadata": {},
     "output_type": "execute_result"
    }
   ],
   "source": [
    "chat_completion"
   ]
  },
  {
   "cell_type": "code",
   "execution_count": 8,
   "metadata": {},
   "outputs": [],
   "source": [
    "message = chat_completion.choices[0].message"
   ]
  },
  {
   "cell_type": "code",
   "execution_count": 9,
   "metadata": {},
   "outputs": [],
   "source": [
    "message.function_call"
   ]
  },
  {
   "cell_type": "markdown",
   "metadata": {},
   "source": [
    "# 2.LangChain Expression Language (LCEL)"
   ]
  },
  {
   "cell_type": "code",
   "execution_count": 10,
   "metadata": {},
   "outputs": [],
   "source": [
    "from langchain.prompts import ChatPromptTemplate\n",
    "from langchain_openai import ChatOpenAI\n",
    "from langchain.schema.output_parser import StrOutputParser"
   ]
  },
  {
   "cell_type": "markdown",
   "metadata": {},
   "source": [
    "#### Simple chain"
   ]
  },
  {
   "cell_type": "code",
   "execution_count": 11,
   "metadata": {},
   "outputs": [],
   "source": [
    "prompt = ChatPromptTemplate.from_template(\n",
    "    \"tell me a short joke about {topic}\"\n",
    ")\n",
    "model = ChatOpenAI()\n",
    "output_parser = StrOutputParser()"
   ]
  },
  {
   "cell_type": "code",
   "execution_count": 12,
   "metadata": {},
   "outputs": [],
   "source": [
    "chain = prompt | model | output_parser"
   ]
  },
  {
   "cell_type": "code",
   "execution_count": 13,
   "metadata": {},
   "outputs": [
    {
     "data": {
      "text/plain": [
       "'Why did the chicken join a band? Because it had the drumsticks!'"
      ]
     },
     "execution_count": 13,
     "metadata": {},
     "output_type": "execute_result"
    }
   ],
   "source": [
    "chain.invoke({\"topic\": \"chicken\"})"
   ]
  },
  {
   "cell_type": "markdown",
   "metadata": {},
   "source": [
    "#### Link a more complex chain language expression"
   ]
  },
  {
   "cell_type": "code",
   "execution_count": 14,
   "metadata": {},
   "outputs": [],
   "source": [
    "from langchain_openai import OpenAIEmbeddings\n",
    "from langchain.vectorstores import DocArrayInMemorySearch"
   ]
  },
  {
   "cell_type": "code",
   "execution_count": 15,
   "metadata": {},
   "outputs": [
    {
     "name": "stderr",
     "output_type": "stream",
     "text": [
      "/langchain_env/lib/python3.12/site-packages/pydantic/_migration.py:283: UserWarning: `pydantic.error_wrappers:ValidationError` has been moved to `pydantic:ValidationError`.\n",
      "  warnings.warn(f'`{import_path}` has been moved to `{new_location}`.')\n"
     ]
    }
   ],
   "source": [
    "vectorstore = DocArrayInMemorySearch.from_texts(\n",
    "    [\"harrison worked at kensho\", \"bears like to eat honey\"],\n",
    "    embedding=OpenAIEmbeddings()\n",
    ")\n",
    "retriever = vectorstore.as_retriever()"
   ]
  },
  {
   "cell_type": "code",
   "execution_count": 16,
   "metadata": {},
   "outputs": [
    {
     "data": {
      "text/plain": [
       "[Document(page_content='harrison worked at kensho'),\n",
       " Document(page_content='bears like to eat honey')]"
      ]
     },
     "execution_count": 16,
     "metadata": {},
     "output_type": "execute_result"
    }
   ],
   "source": [
    "retriever.get_relevant_documents(\"where did harrison work?\")"
   ]
  },
  {
   "cell_type": "code",
   "execution_count": 17,
   "metadata": {},
   "outputs": [],
   "source": [
    "template = \"\"\"Answer the question based only on the following context:\n",
    "{context}\n",
    "\n",
    "Question: {question}\n",
    "\"\"\"\n",
    "prompt = ChatPromptTemplate.from_template(template)"
   ]
  },
  {
   "cell_type": "code",
   "execution_count": 18,
   "metadata": {},
   "outputs": [],
   "source": [
    "from langchain.schema.runnable import RunnableMap"
   ]
  },
  {
   "cell_type": "code",
   "execution_count": 19,
   "metadata": {},
   "outputs": [],
   "source": [
    "chain = RunnableMap({\n",
    "    \"context\": lambda x: retriever.get_relevant_documents(x[\"question\"]),\n",
    "    \"question\": lambda x: x[\"question\"]\n",
    "}) | prompt | model | output_parser"
   ]
  },
  {
   "cell_type": "code",
   "execution_count": 20,
   "metadata": {},
   "outputs": [
    {
     "data": {
      "text/plain": [
       "'Harrison worked at Kensho.'"
      ]
     },
     "execution_count": 20,
     "metadata": {},
     "output_type": "execute_result"
    }
   ],
   "source": [
    "chain.invoke({\"question\": \"where did harrison work?\"})"
   ]
  },
  {
   "cell_type": "code",
   "execution_count": 21,
   "metadata": {},
   "outputs": [],
   "source": [
    "inputs = RunnableMap({\n",
    "    \"context\": lambda x: retriever.get_relevant_documents(x[\"question\"]),\n",
    "    \"question\": lambda x: x[\"question\"]\n",
    "})"
   ]
  },
  {
   "cell_type": "code",
   "execution_count": 22,
   "metadata": {},
   "outputs": [
    {
     "data": {
      "text/plain": [
       "{'context': [Document(page_content='harrison worked at kensho'),\n",
       "  Document(page_content='bears like to eat honey')],\n",
       " 'question': 'where did harrison work?'}"
      ]
     },
     "execution_count": 22,
     "metadata": {},
     "output_type": "execute_result"
    }
   ],
   "source": [
    "inputs.invoke({\"question\": \"where did harrison work?\"})"
   ]
  },
  {
   "cell_type": "markdown",
   "metadata": {},
   "source": [
    "#### Bind"
   ]
  },
  {
   "cell_type": "code",
   "execution_count": 28,
   "metadata": {},
   "outputs": [],
   "source": [
    "functions = [\n",
    "    {\n",
    "        \"name\": \"pet_care\",\n",
    "        \"description\": \"Get information about caring for a pet\",\n",
    "        \"parameters\": {\n",
    "            \"type\": \"object\",\n",
    "            \"properties\": {\n",
    "                \"pet_care_type\": {\n",
    "                    \"type\": \"string\",\n",
    "                    \"description\": \"The type care you want to know about, e.g. feeding, grooming\",\n",
    "                },\n",
    "            },\n",
    "        },\n",
    "        \"required\": [\"pet_care_type\"],\n",
    "    }\n",
    "]"
   ]
  },
  {
   "cell_type": "code",
   "execution_count": 29,
   "metadata": {},
   "outputs": [],
   "source": [
    "prompt = ChatPromptTemplate.from_messages(\n",
    "    [\n",
    "        (\"human\", \"{input}\")\n",
    "    ]\n",
    ")\n",
    "\n",
    "model = ChatOpenAI(temperature=0).bind(functions=functions)"
   ]
  },
  {
   "cell_type": "code",
   "execution_count": 30,
   "metadata": {},
   "outputs": [],
   "source": [
    "runnable = prompt | model"
   ]
  },
  {
   "cell_type": "code",
   "execution_count": 31,
   "metadata": {},
   "outputs": [
    {
     "data": {
      "text/plain": [
       "AIMessage(content='', additional_kwargs={'function_call': {'arguments': '{\"pet_care_type\":\"feeding\"}', 'name': 'pet_care'}}, response_metadata={'token_usage': {'completion_tokens': 18, 'prompt_tokens': 77, 'total_tokens': 95}, 'model_name': 'gpt-3.5-turbo', 'system_fingerprint': 'fp_3bc1b5746c', 'finish_reason': 'function_call', 'logprobs': None})"
      ]
     },
     "execution_count": 31,
     "metadata": {},
     "output_type": "execute_result"
    }
   ],
   "source": [
    "runnable.invoke({\"input\": \"I want to know how to feed my pet\"})"
   ]
  },
  {
   "cell_type": "markdown",
   "metadata": {},
   "source": [
    "#### Fallbacks"
   ]
  },
  {
   "cell_type": "code",
   "execution_count": 47,
   "metadata": {},
   "outputs": [],
   "source": [
    "from langchain_openai import ChatOpenAI\n",
    "import json"
   ]
  },
  {
   "cell_type": "code",
   "execution_count": 83,
   "metadata": {},
   "outputs": [],
   "source": [
    "simple_model = ChatOpenAI(\n",
    "    temperature=0,\n",
    "    max_tokens=1000,\n",
    "    model=\"gpt-3.5-turbo\"\n",
    ")\n",
    "\n",
    "simple_chain = simple_model | StrOutputParser() | json.loads\n",
    "simple_chain_error = simple_model | json.loads"
   ]
  },
  {
   "cell_type": "code",
   "execution_count": 84,
   "metadata": {},
   "outputs": [],
   "source": [
    "challenge = \"write three authors who wrote about the american revolution in a json blob\""
   ]
  },
  {
   "cell_type": "code",
   "execution_count": 86,
   "metadata": {},
   "outputs": [
    {
     "name": "stdout",
     "output_type": "stream",
     "text": [
      "{'authors': ['David McCullough', 'Joseph J. Ellis', 'Gordon S. Wood']}\n"
     ]
    }
   ],
   "source": [
    "from langchain_core.messages import HumanMessage, SystemMessage\n",
    "\n",
    "messages = [\n",
    "    SystemMessage(content=\"You're a helpful assistant\"),\n",
    "    HumanMessage(content=challenge),\n",
    "]\n",
    "\n",
    "simple_chain_with_fallback = simple_chain_error.with_fallbacks([simple_chain])\n",
    "authors = simple_chain_with_fallback.invoke(messages)\n",
    "print(authors)"
   ]
  },
  {
   "cell_type": "markdown",
   "metadata": {},
   "source": [
    "# 3.OpenAI Function Calling"
   ]
  },
  {
   "cell_type": "markdown",
   "metadata": {},
   "source": [
    "Some function calling, definition"
   ]
  },
  {
   "cell_type": "code",
   "execution_count": 2,
   "metadata": {},
   "outputs": [],
   "source": [
    "from typing import List, Dict\n",
    "from pydantic import BaseModel, Field\n",
    "\n",
    "class WeatherSearch(BaseModel):\n",
    "    \"\"\"Call this with an airport code to get the weather at that airport\"\"\"\n",
    "    airport_code: str = Field(description=\"airport code to get weather for\")"
   ]
  },
  {
   "cell_type": "code",
   "execution_count": 5,
   "metadata": {},
   "outputs": [
    {
     "data": {
      "text/plain": [
       "{'name': 'WeatherSearch',\n",
       " 'description': 'Call this with an airport code to get the weather at that airport',\n",
       " 'parameters': {'properties': {'airport_code': {'description': 'airport code to get weather for',\n",
       "    'type': 'string'}},\n",
       "  'required': ['airport_code'],\n",
       "  'type': 'object'}}"
      ]
     },
     "execution_count": 5,
     "metadata": {},
     "output_type": "execute_result"
    }
   ],
   "source": [
    "from langchain_core.utils.function_calling import convert_pydantic_to_openai_function\n",
    "\n",
    "wather_search_openai_function = convert_pydantic_to_openai_function(WeatherSearch)\n",
    "wather_search_openai_function"
   ]
  },
  {
   "cell_type": "markdown",
   "metadata": {},
   "source": [
    "Model building"
   ]
  },
  {
   "cell_type": "code",
   "execution_count": 6,
   "metadata": {},
   "outputs": [],
   "source": [
    "from langchain_openai import ChatOpenAI\n",
    "\n",
    "model = ChatOpenAI().bind(functions=[wather_search_openai_function])"
   ]
  },
  {
   "cell_type": "markdown",
   "metadata": {},
   "source": [
    "Input prompt"
   ]
  },
  {
   "cell_type": "code",
   "execution_count": 11,
   "metadata": {},
   "outputs": [],
   "source": [
    "from langchain.prompts import ChatPromptTemplate\n",
    "\n",
    "prompt = ChatPromptTemplate.from_messages(\n",
    "    [(\"system\", \"You're a helpful assistant\"),\n",
    "    (\"user\", \"{input}\")]\n",
    ")"
   ]
  },
  {
   "cell_type": "markdown",
   "metadata": {},
   "source": [
    "Create our chain based on LCEL"
   ]
  },
  {
   "cell_type": "code",
   "execution_count": 12,
   "metadata": {},
   "outputs": [],
   "source": [
    "chain = prompt | model "
   ]
  },
  {
   "cell_type": "markdown",
   "metadata": {},
   "source": [
    "Chain execution"
   ]
  },
  {
   "cell_type": "code",
   "execution_count": 14,
   "metadata": {},
   "outputs": [
    {
     "data": {
      "text/plain": [
       "AIMessage(content='', additional_kwargs={'function_call': {'arguments': '{\"airport_code\":\"JFK\"}', 'name': 'WeatherSearch'}}, response_metadata={'token_usage': {'completion_tokens': 17, 'prompt_tokens': 86, 'total_tokens': 103}, 'model_name': 'gpt-3.5-turbo', 'system_fingerprint': 'fp_b28b39ffa8', 'finish_reason': 'function_call', 'logprobs': None})"
      ]
     },
     "execution_count": 14,
     "metadata": {},
     "output_type": "execute_result"
    }
   ],
   "source": [
    "chain.invoke({\"input\", \"What's the weather like at J.F. Kenedy?\"})"
   ]
  },
  {
   "cell_type": "markdown",
   "metadata": {},
   "source": [
    "# 4.Tagging and extraction"
   ]
  },
  {
   "cell_type": "code",
   "execution_count": 16,
   "metadata": {},
   "outputs": [
    {
     "data": {
      "text/plain": [
       "{'name': 'People',\n",
       " 'description': \"A function that allows to obtain a list of people's names, ages, and hobbies.\",\n",
       " 'parameters': {'$defs': {'Person': {'description': \"A function that allows to obtain the person's name, age, and hobbies.\",\n",
       "    'properties': {'name': {'description': \"The person's name\",\n",
       "      'type': 'string'},\n",
       "     'age': {'description': \"The person's age\", 'type': 'integer'},\n",
       "     'hobbies': {'description': \"The person's hobbies\",\n",
       "      'items': {'type': 'string'},\n",
       "      'type': 'array'}},\n",
       "    'required': ['name', 'age', 'hobbies'],\n",
       "    'type': 'object'}},\n",
       "  'properties': {'people': {'description': \"List of people's names, ages, and hobbies\",\n",
       "    'items': {'description': \"A function that allows to obtain the person's name, age, and hobbies.\",\n",
       "     'properties': {'name': {'description': \"The person's name\",\n",
       "       'type': 'string'},\n",
       "      'age': {'description': \"The person's age\", 'type': 'integer'},\n",
       "      'hobbies': {'description': \"The person's hobbies\",\n",
       "       'items': {'type': 'string'},\n",
       "       'type': 'array'}},\n",
       "     'required': ['name', 'age', 'hobbies'],\n",
       "     'type': 'object'},\n",
       "    'type': 'array'}},\n",
       "  'required': ['people'],\n",
       "  'type': 'object'}}"
      ]
     },
     "execution_count": 16,
     "metadata": {},
     "output_type": "execute_result"
    }
   ],
   "source": [
    "from langchain_core.utils.function_calling import convert_pydantic_to_openai_function\n",
    "from pydantic import BaseModel, Field\n",
    "from typing import List, Dict\n",
    "\n",
    "\n",
    "class Person(BaseModel):\n",
    "    \"\"\"A function that allows to obtain the person's name, age, and hobbies.\"\"\"\n",
    "    name: str = Field(description=\"The person's name\")\n",
    "    age: int = Field(description=\"The person's age\")\n",
    "    hobbies: List[str] = Field(description=\"The person's hobbies\")\n",
    "\n",
    "class People(BaseModel):\n",
    "    \"\"\"A function that allows to obtain a list of people's names, ages, and hobbies.\"\"\"\n",
    "    people: List[Person] = Field(description=\"List of people's names, ages, and hobbies\")\n",
    "\n",
    "\n",
    "\n",
    "people_tagging_function = convert_pydantic_to_openai_function(People)\n",
    "people_tagging_function"
   ]
  },
  {
   "cell_type": "markdown",
   "metadata": {},
   "source": [
    "Model definition"
   ]
  },
  {
   "cell_type": "code",
   "execution_count": 17,
   "metadata": {},
   "outputs": [],
   "source": [
    "from langchain_openai import ChatOpenAI\n",
    "\n",
    "model = ChatOpenAI().bind(\n",
    "    functions=[people_tagging_function])"
   ]
  },
  {
   "cell_type": "markdown",
   "metadata": {},
   "source": [
    "Prompt input"
   ]
  },
  {
   "cell_type": "code",
   "execution_count": 55,
   "metadata": {},
   "outputs": [],
   "source": [
    "from langchain.prompts import ChatPromptTemplate\n",
    "\n",
    "prompt = ChatPromptTemplate.from_messages(\n",
    "    [(\"system\", \"You're a helpful assistant\"),\n",
    "    (\"human\", \"{input}\")]\n",
    ")"
   ]
  },
  {
   "cell_type": "markdown",
   "metadata": {},
   "source": [
    "Output list parser"
   ]
  },
  {
   "cell_type": "code",
   "execution_count": 56,
   "metadata": {},
   "outputs": [],
   "source": [
    "from langchain.output_parsers.openai_functions import JsonKeyOutputFunctionsParser\n",
    "\n",
    "output_parser = JsonKeyOutputFunctionsParser(key_name=\"people\")"
   ]
  },
  {
   "cell_type": "markdown",
   "metadata": {},
   "source": [
    "Chain definition"
   ]
  },
  {
   "cell_type": "markdown",
   "metadata": {},
   "source": [
    "The **regular_chain** just obtain from one review the data of my friends"
   ]
  },
  {
   "cell_type": "code",
   "execution_count": 57,
   "metadata": {},
   "outputs": [],
   "source": [
    "regular_chain = prompt | model | output_parser"
   ]
  },
  {
   "cell_type": "code",
   "execution_count": 58,
   "metadata": {},
   "outputs": [
    {
     "data": {
      "text/plain": [
       "[{'name': 'John', 'age': 25, 'hobbies': ['play basketball']}]"
      ]
     },
     "execution_count": 58,
     "metadata": {},
     "output_type": "execute_result"
    }
   ],
   "source": [
    "regular_chain.invoke({\"input\": \"my friend is John, he is 25 years old and he likes to play basketball\"})"
   ]
  },
  {
   "cell_type": "markdown",
   "metadata": {},
   "source": [
    "The **chain**, the final chain, obtain the data of my friends given list of reviews"
   ]
  },
  {
   "cell_type": "code",
   "execution_count": 59,
   "metadata": {},
   "outputs": [],
   "source": [
    "from langchain.schema.runnable import RunnableLambda\n",
    "\n",
    "prep = RunnableLambda(\n",
    "    lambda x: [{\"input\": review} for review in x]\n",
    ")"
   ]
  },
  {
   "cell_type": "code",
   "execution_count": 60,
   "metadata": {},
   "outputs": [],
   "source": [
    "def flatten(matrix):\n",
    "    flat_list = []\n",
    "    for row in matrix:\n",
    "        flat_list += row\n",
    "    return flat_list"
   ]
  },
  {
   "cell_type": "code",
   "execution_count": 61,
   "metadata": {},
   "outputs": [],
   "source": [
    "chain = prep | regular_chain.map() | flatten"
   ]
  },
  {
   "cell_type": "code",
   "execution_count": 62,
   "metadata": {},
   "outputs": [
    {
     "name": "stdout",
     "output_type": "stream",
     "text": [
      "[{'name': 'John', 'age': 25, 'hobbies': ['play soccer']}, {'name': 'Mary', 'age': 30, 'hobbies': ['reading books']}, {'name': 'Alex', 'age': 22, 'hobbies': ['play video games']}]\n"
     ]
    }
   ],
   "source": [
    "friends_reviews = [\n",
    "    \"I met John, who is 25 years old and likes to play soccer.\",\n",
    "    \"One of my best friends is Mary, who is 30 years old and enjoys reading books.\",\n",
    "    \"The first friend I made in college was Alex, who is 22 years old and loves to play video games.\"\n",
    "]\n",
    "\n",
    "friends = chain.invoke(friends_reviews)\n",
    "print(friends)"
   ]
  },
  {
   "cell_type": "code",
   "execution_count": 65,
   "metadata": {},
   "outputs": [
    {
     "data": {
      "text/plain": [
       "People(people=[Person(name='John', age=25, hobbies=['play soccer']), Person(name='Mary', age=30, hobbies=['reading books']), Person(name='Alex', age=22, hobbies=['play video games'])])"
      ]
     },
     "execution_count": 65,
     "metadata": {},
     "output_type": "execute_result"
    }
   ],
   "source": [
    "friends = People(people=[Person(**friend) for friend in friends])\n",
    "friends"
   ]
  },
  {
   "cell_type": "markdown",
   "metadata": {},
   "source": [
    "# 5.Tools & Routing"
   ]
  },
  {
   "cell_type": "markdown",
   "metadata": {},
   "source": [
    "#### My custom tool for search review of films"
   ]
  },
  {
   "cell_type": "code",
   "execution_count": 256,
   "metadata": {},
   "outputs": [],
   "source": [
    "import requests\n",
    "import json\n",
    "\n",
    "def get_id_movie(film_title: str):\n",
    "    parsed_title = film_title.replace(\" \", \"%20\")\n",
    "    url = f\"https://api.themoviedb.org/3/search/movie?query={parsed_title}&include_adult=false&language=en-US&page=1\"\n",
    "    headers = {\n",
    "        \"accept\": \"application/json\",\n",
    "        \"Authorization\": f\"Bearer {os.environ.get('TMDB_BEARER_TOKEN')}\"\n",
    "    }\n",
    "    try:\n",
    "        response = requests.get(url, headers=headers)\n",
    "    except requests.exceptions.RequestException as e:\n",
    "        exit(f\"Error: {e}\")\n",
    "    \n",
    "    if response.status_code != 200:\n",
    "        exit(f\"Error: {response.status_code}\")\n",
    "    try:\n",
    "        return json.loads(response.text)['results'][0]['id']\n",
    "    except IndexError as e:\n",
    "        return None\n",
    "\n",
    "\n",
    "def get_movie_details(movie_id: int):\n",
    "    url = f\"https://api.themoviedb.org/3/movie/{str(movie_id)}?append_to_response=genre%2Creviews&language=en-US\"\n",
    "    headers = {\n",
    "        \"accept\": \"application/json\",\n",
    "        \"Authorization\": f\"Bearer {os.environ.get('TMDB_BEARER_TOKEN')}\"\n",
    "    }\n",
    "    response = requests.get(url, headers=headers)\n",
    "    response = json.loads(response.text)\n",
    "    original_title = response['original_title']\n",
    "    genres = [genre['name'] for genre in response['genres']]\n",
    "    reviews = [review['content'] for review in response['reviews']['results']]\n",
    "    return {\n",
    "        \"original_title\": original_title,\n",
    "        \"genres\": genres,\n",
    "        \"reviews\": reviews,\n",
    "        \"release_date\": response['release_date']\n",
    "    }"
   ]
  },
  {
   "cell_type": "code",
   "execution_count": 257,
   "metadata": {},
   "outputs": [
    {
     "data": {
      "text/plain": [
       "{'original_title': 'Dirty Harry',\n",
       " 'genres': ['Action', 'Crime', 'Thriller'],\n",
       " 'reviews': [\"More than iconography here in dynamite Siegel/Eastwood teaming. \\r\\n\\r\\nThe film opens with a shot of a memorial wall in praise of the San Francisco Police officers who lost their lives in the line of duty, a SFPD badge is prominent as the camera scrolls down the ream of names on the wall. Cut to a rooftop sniper shooting a girl taking a swim in a swimming pool, cut to the coolest looking cop you have ever seen making his way to the rooftop scene, he stands and surveys the whole of the San Francisco bay area, this is, his area, and we know we are in for a very special film indeed. \\r\\n\\r\\nDirty Harry is now something of an institution, the film that pushed the boundaries of cops versus bad guys movies, some of the film's dialogue became part of modern day speak, and it's the film that propelled Clint Eastwood into the stratosphere of super stardom. Often tagged as a fascist film, I think it's more a cynical look at the rights of criminals because Harry is everyone who has ever been a victim of crime, he will do what it takes to take down the criminals festering in society, you break the law and Harry will get you any way he can. Here Harry is on the trail of Scorpio, a ruthless sniper killing at random, Scorpio kidnaps a teenage girl and demands $200.000 from the city or she will die in the hole he has her buried in. Harry is just the man for the job of delivery boy and this sets the wheels in motion for what becomes a personal crusade for Harry to take Scorpio down at all costs. \\r\\n\\r\\nDirector Don Siegel crafts a masterpiece here, creating a western within the big city landscape, the pace is energetic at times yet reeling itself in to provide genuine suspense when needed. Siegel should also be praised for sticking by Andy Robinson as Scorpio, for it's an insanely great performance from him. Yet it might never had happened since Robinson was petrified of guns, but Siegel stood by him and coaxed him through it. The result is a maniacal turn that scares and amuses in equal measure - witness his mad singing during a bus kidnap scene, you will not know whether to laugh or be afraid. \\r\\n\\r\\nYet as good as Robinson is, he gives way to a seamless piece of magnificence from Eastwood as Harry Callahan, note perfect and enthusing the role with the right amount of dynamic cool and gusto, it's no surprise that the character became a cinematic legend after such a great acting performance. Finally I must mention the wonderful score from Lalo Schifrin, jazz/electro/beat combinations segue perfectly into each scene with maximum impact to cap off one of the finest films of the 70s, and if you don't believe me then you can go argue with Harry. 9/10\",\n",
       "  'The directing is remarkable but, the most interesting side of this film is the character created by Eastwood, a policeman who decides to take the law by his hand disregarding any kind of right or procedure.\\r\\n\\r\\nQuite like his characters in the far west ... but in nowadays U.S.\\r\\n\\r\\nThe story itself is, plainly, bad and grotesque.',\n",
       "  \"Recently I've considered drastically negatively re-appraising Clint Eastwood's work, both directorially and as a thespian, as a knee-jerk reaction to his constant defense of the more racially-bigoted face of conservative America, but because of what his work has meant to me as a cinephile over the years, plus in tribute to everyone else's work involved in this film, particularly director Don Siegel's, that simply wouldn't be fair.\\r\\n\\r\\nAs well, you're basically getting, boiled down in its 103-minute timespan, 45 years after the fact, the main dilemma facing the USA. Whose rights are more important--the good guys' or the bad guys'? If they're equal, should they be considered equal, and what does that mean to the law enforcement and judicial systems?\\r\\n\\r\\nQuite simply, THE most important American-made film of the past 50 years. NOT my very favourite (that's '2001: A Space Odyssey'), but the most significant.\\r\\n\\r\\nAnd it hasn't aged a single day because of it.\",\n",
       "  \"Surprisingly straightforward story-wise, but very enjoyable all the same.\\r\\n\\r\\n<em>'Dirty Harry'</em> is no doubt stylish, features an eye-catching plot and has a very good lead performance from Clint Eastwood; he really does own the role. With that noted, I was surprised at how simply the story unfolds. That's not necessarily a criticism, I just presumed it would've been more than just 'event one, event two, event three etc. ... the end'. I enjoyed it, which is all that truly matters.\\r\\n\\r\\nIt's, for me, an entertaining, solid film. I have no real issues with it.\",\n",
       "  \"I can't imagine anyone else playing Harry Callahan other than Clint Eastwood. He will always be an iconic character with his tough demeanour and his means to get justice no matter how many rules he needs to break. Some of the scenes at the start have nothing to do with the investigation and while feel quite unnecessary to the plot, they still bring entertainment and shows us just what type of character Harry is.  Andy Robinson is fantastic as Scorpio and while the investigation does take a little while to get going in the beginning, the cat and mouse game between the two really ramps up towards the end and I particularly loved the climax. Excellent film that still holds up well today.\\r\\n\\r\\n8/10\",\n",
       "  'This is one of these films that you can watch time and time again and still enjoy. Certainly, it\\'s not the best crime story ever committed to film: the actual plot is comparatively straightforward with little by way of anything subtle, but I doubt you will readily find a more charismatic leading man who manages to combine humour, menace and style than Clint Eastwood (\"Callahan\"). He is a no-nonsense cop who is on the trail of a seriously psychopathic serial killer. After a few red-herrings, we discover quite quickly who the perpetrator actually is - that chase isn\\'t really the point. It is what ensues now - a tense and suspenseful battle of wills between Eastwood and the wonderfully seedy, menacing and maddening Andrew Robinson whose performance here has to be up there with the best, all round, characterisations of any antagonist I\\'ve ever seen. Don Siegel keeps the action alive and the cast tightly knit; the dialogue - aside from the now infamous pithy quotes from \"Callahan\" - is potently sparing. The tension builds-up excellently using the cinematography of the city and a superb score from Lalo Shifrin whilst simultaneously exposing us to what is essentially the seamy, gritty underbelly of San Franciscan sub-culture. It is violent, brutal even - but never graphically. The imagery is designed to horrify but not, in my view, to scare. Eastwood expertly epitomises this cop - a maverick, almost vigilante, police officer and leaves us thanking the lord he is (sort of) on our side. Terrific film.'],\n",
       " 'release_date': '1971-12-23'}"
      ]
     },
     "execution_count": 257,
     "metadata": {},
     "output_type": "execute_result"
    }
   ],
   "source": [
    "# example of use\n",
    "harry_details = get_movie_details(get_id_movie(\"Dirty Harry\"))\n",
    "harry_details"
   ]
  },
  {
   "cell_type": "code",
   "execution_count": 258,
   "metadata": {},
   "outputs": [],
   "source": [
    "from langchain_core.pydantic_v1 import BaseModel, Field\n",
    "from langchain.agents import tool\n",
    "from langchain.tools.render import format_tool_to_openai_function\n",
    "\n",
    "class MovieSearch(BaseModel):\n",
    "    \"\"\"This is a search tool that allows you to search properties of a movie (release date, genres and some reviews).\"\"\"\n",
    "    query: str = Field(description=\"The movie you want to search for\")\n",
    "\n",
    "@tool(args_schema=MovieSearch)\n",
    "def search_movies(query: str):\n",
    "    \"\"\"This is a search tool that allows you to search properties of a movie (release date, genres and some reviews).\"\"\"\n",
    "    movie_id = get_id_movie(query)\n",
    "    if movie_id:\n",
    "        return get_movie_details(movie_id)\n",
    "    else:\n",
    "        return {\"error\": \"No movie found\"}\n",
    "\n",
    "formatted_tool_search_movies = format_tool_to_openai_function(search_movies)"
   ]
  },
  {
   "cell_type": "markdown",
   "metadata": {},
   "source": [
    "Example use of the tool"
   ]
  },
  {
   "cell_type": "code",
   "execution_count": 154,
   "metadata": {},
   "outputs": [
    {
     "data": {
      "text/plain": [
       "AIMessage(content='', additional_kwargs={'function_call': {'arguments': '{\"query\":\"Shawshank Redemption\"}', 'name': 'search_movies'}}, response_metadata={'token_usage': {'completion_tokens': 18, 'prompt_tokens': 95, 'total_tokens': 113}, 'model_name': 'gpt-3.5-turbo', 'system_fingerprint': 'fp_b28b39ffa8', 'finish_reason': 'function_call', 'logprobs': None})"
      ]
     },
     "execution_count": 154,
     "metadata": {},
     "output_type": "execute_result"
    }
   ],
   "source": [
    "from langchain_openai import ChatOpenAI\n",
    "\n",
    "model = ChatOpenAI(temperature=0).bind(\n",
    "    functions=[formatted_tool_search_movies])\n",
    "\n",
    "model.invoke(\n",
    "    (\"human\", \"What is the genre of the film Shawshank Redemption?\")\n",
    ")"
   ]
  },
  {
   "cell_type": "code",
   "execution_count": 155,
   "metadata": {},
   "outputs": [
    {
     "data": {
      "text/plain": [
       "AIMessage(content='Hello! How can I assist you today?', response_metadata={'token_usage': {'completion_tokens': 10, 'prompt_tokens': 85, 'total_tokens': 95}, 'model_name': 'gpt-3.5-turbo', 'system_fingerprint': 'fp_b28b39ffa8', 'finish_reason': 'stop', 'logprobs': None})"
      ]
     },
     "execution_count": 155,
     "metadata": {},
     "output_type": "execute_result"
    }
   ],
   "source": [
    "model.invoke(\n",
    "    (\"human\", \"Hi!\")\n",
    ")"
   ]
  },
  {
   "cell_type": "markdown",
   "metadata": {},
   "source": [
    "#### Routing"
   ]
  },
  {
   "cell_type": "code",
   "execution_count": 87,
   "metadata": {},
   "outputs": [],
   "source": [
    "from langchain.prompts import ChatPromptTemplate\n",
    "\n",
    "input_prompt = ChatPromptTemplate.from_messages(\n",
    "    [(\"system\", \"You're a helpful assistant\"),\n",
    "    (\"human\", \"{input}\")]\n",
    ")"
   ]
  },
  {
   "cell_type": "code",
   "execution_count": 88,
   "metadata": {},
   "outputs": [],
   "source": [
    "from langchain.agents.output_parsers import OpenAIFunctionsAgentOutputParser"
   ]
  },
  {
   "cell_type": "code",
   "execution_count": 108,
   "metadata": {},
   "outputs": [],
   "source": [
    "from langchain.schema.agent import AgentFinish\n",
    "from langchain.prompts import ChatPromptTemplate\n",
    "\n",
    "input_description = \"\"\"\n",
    "This is the film information: \n",
    "{film_info}\n",
    "\"\"\"\n",
    "\n",
    "input_prompt_for_retriever = ChatPromptTemplate.from_messages(\n",
    "    [(\"system\", \"You're a helpful assistant, with the given information about a film, you have to answer (included the reviews) in a english human-like given information about the following data in order: 1. Official name of the film and release year, 2. The genres of the film and 3.Summarize the reviews and order them from positive to negative, show the reviews separated and start with stars icon, the number of stars depend on the positivity from 1 to 5 stars.\"),\n",
    "    (\"human\",input_description)]\n",
    ")\n",
    "\n",
    "retriever = ChatOpenAI(\n",
    "    model=\"gpt-4\"\n",
    ")\n",
    "\n",
    "def route(result):\n",
    "    if isinstance(result, AgentFinish):\n",
    "        return result.return_values['output']\n",
    "    else:\n",
    "        tools = {\n",
    "            \"search_movies\": search_movies,\n",
    "        }\n",
    "        film_info = tools[result.tool].run(result.tool_input)\n",
    "        retriever_chain = input_prompt_for_retriever | retriever\n",
    "        return retriever_chain.invoke({\"film_info\": film_info}).content"
   ]
  },
  {
   "cell_type": "code",
   "execution_count": 109,
   "metadata": {},
   "outputs": [],
   "source": [
    "chain = input_prompt | model | OpenAIFunctionsAgentOutputParser() | route"
   ]
  },
  {
   "cell_type": "code",
   "execution_count": 112,
   "metadata": {},
   "outputs": [
    {
     "name": "stdout",
     "output_type": "stream",
     "text": [
      "The official name of the film is \"The Lord of the Rings: The Fellowship of the Ring\" which was released in 2001. The film falls under the genres of Adventure, Fantasy, and Action.\n",
      "\n",
      "Here are the reviews, ordered from positive to negative:\n",
      "\n",
      "1. ⭐⭐⭐⭐⭐ - \"Putting formula blockbusters to shame, Fellowship is impeccably cast and constructed with both care and passion: this is a labour of love that never feels laboured. Emotional range and character depth ultimately take us beyond genre limitations, and it deserves to play as wide as a certain Mr. Potter.\" - Colin Kennedy, Empire Magazine\n",
      "\n",
      "2. ⭐⭐⭐⭐⭐ - \"This film may be perfect. Based on the fantasy world written by Tolkien, we see the halfling hobbits, the most unlikely of heroes, a breed of human type beings who indulge in pleasures, games, and fun, and do little evil.\"\n",
      "\n",
      "3. ⭐⭐⭐⭐⭐ - \"Magnificent! A great start to the franchise. 'The Lord of the Rings: The Fellowship of the Ring' is delightful. The cast are excellent. Elijah Wood gives a strong performance in the lead role. The look of the film is spectacular, and has aged extremely well even to this day.\"\n",
      "\n",
      "4. ⭐⭐⭐⭐ ¾ - \"Lost count how many times I've seen the 'The Fellowship of the Ring' but still fantastic after all these years, epic on every level and just all around entertaining, the 3.5 running time just flies by.\"\n",
      "\n",
      "5. ⭐⭐⭐⭐ - \"Overall, I give this four stars. Not five, because some of the changes really bug me, as a long-time Tolkien fan, but a solid four. The casting, to start, was brilliant.\"\n",
      "\n",
      "6. ⭐⭐⭐⭐ - \"An epic movie if I ever saw one. Captivating and just plain fun to watch. This movie is, indeed, art.\"\n",
      "\n",
      "7. ⭐⭐⭐½ - \"So now that the picture houses across the UK are beginning to reopen, this is the third film I've settled down to watch in front of a huge big screen - and it's a belter.\"\n",
      "\n",
      "8. ⭐⭐⭐ - \"Tolkien’s adventure/fantasy LOOKS and SOUNDS fabulous, but is not without flaws. Despite these negatives, 'The Fellowship of the Ring' is the best of the trilogy and is a must for fantasy/adventure aficionados, especially Tolkien fans.\"\n",
      "\n",
      "9. ⭐⭐⭐ - \"So I watched this first entry of the Lord of the Rings trilogy as just a viewer, not a fan, and I liked it just fine. The complex plot held together well and the scenery was gorgeous.\"\n",
      "\n",
      "10. ⭐⭐ - \"Well, I wouldn’t read this review if you are a true fan of fantasy adventure epics, because I am not.\"\n"
     ]
    }
   ],
   "source": [
    "response = chain.invoke({\"input\": \"What can you tell me about The lord of the rings, the fellowship film?\"})\n",
    "print(response)"
   ]
  },
  {
   "cell_type": "code",
   "execution_count": 104,
   "metadata": {},
   "outputs": [
    {
     "name": "stdout",
     "output_type": "stream",
     "text": [
      "Hello! How can I assist you today?\n"
     ]
    }
   ],
   "source": [
    "response = chain.invoke({\"input\": \"Hi!\"})\n",
    "print(response)"
   ]
  },
  {
   "cell_type": "markdown",
   "metadata": {},
   "source": [
    "# 6.Conversational Agent"
   ]
  },
  {
   "cell_type": "markdown",
   "metadata": {},
   "source": [
    "Concept of [MessagesPlaceholder](https://api.python.langchain.com/en/latest/prompts/langchain_core.prompts.chat.MessagesPlaceholder.html)"
   ]
  },
  {
   "cell_type": "code",
   "execution_count": 149,
   "metadata": {},
   "outputs": [
    {
     "data": {
      "text/plain": [
       "[SystemMessage(content='You are an AI assistant.'),\n",
       " HumanMessage(content='Hello!')]"
      ]
     },
     "execution_count": 149,
     "metadata": {},
     "output_type": "execute_result"
    }
   ],
   "source": [
    "from langchain_core.prompts import MessagesPlaceholder\n",
    "\n",
    "prompt = MessagesPlaceholder(\"history\", optional=True)\n",
    "prompt.format_messages(\n",
    "    history=[\n",
    "        (\"system\", \"You are an AI assistant.\"),\n",
    "        (\"human\", \"Hello!\"),\n",
    "    ]\n",
    ")"
   ]
  },
  {
   "cell_type": "markdown",
   "metadata": {},
   "source": [
    "Concept of [format_to_openai_functions](https://api.python.langchain.com/en/latest/_modules/langchain/agents/format_scratchpad/openai_functions.html)"
   ]
  },
  {
   "cell_type": "code",
   "execution_count": 157,
   "metadata": {},
   "outputs": [],
   "source": [
    "from langchain.prompts import ChatPromptTemplate\n",
    "\n",
    "input_prompt = ChatPromptTemplate.from_messages(\n",
    "    [(\"system\", \"You're a helpful assistant\"),\n",
    "    (\"human\", \"{input}\"),\n",
    "    MessagesPlaceholder(variable_name=\"agent_scratchpad\", optional=True)]\n",
    ")\n",
    "\n",
    "chain = input_prompt | model | OpenAIFunctionsAgentOutputParser()"
   ]
  },
  {
   "cell_type": "code",
   "execution_count": 159,
   "metadata": {},
   "outputs": [
    {
     "name": "stdout",
     "output_type": "stream",
     "text": [
      "Type of the result: <class 'langchain_core.agents.AgentActionMessageLog'>\n",
      "The tool executed: tool='search_movies' tool_input={'query': 'Taxi Driver'} log=\"\\nInvoking: `search_movies` with `{'query': 'Taxi Driver'}`\\n\\n\\n\" message_log=[AIMessage(content='', additional_kwargs={'function_call': {'arguments': '{\"query\":\"Taxi Driver\"}', 'name': 'search_movies'}}, response_metadata={'token_usage': {'completion_tokens': 16, 'prompt_tokens': 94, 'total_tokens': 110}, 'model_name': 'gpt-3.5-turbo', 'system_fingerprint': 'fp_3bc1b5746c', 'finish_reason': 'function_call', 'logprobs': None})]\n",
      "The observation executed: {'original_title': 'Taxi Driver', 'genres': ['Crime', 'Drama'], 'reviews': [\"**Social outcast with a mohawk goes nutzoid**\\r\\n\\r\\nPorn obsessed loner, Travis Bickle, is a cabbie in New York. The story tells of his gradual descent into madness brought on by his inability to relate to those around him and a feeling of a lack of worth. Travis is essentially invisible - of no importance. Walton's self imposed isolation preferable to getting along with the scum around him. One day he decides to change all of that and become _a somebody_ by murdering a politician.\\r\\n\\r\\nThis _nobody_ with the superiority complex has gone off the rails, for certain and it can only lead to bloodshed. A lot of it will be his own.\", \"Taxi Driver has had many things said about it, and I don't wish to add to all that but it is the yardstick I measure all other films by, it is by far my favourite of all the films I have ever watched.\\r\\n\\r\\nIt's brutal honesty and use of themes such as paranoia, mental health issues, and society degradation make it a film that has been imitated, and referenced since its opening in cinemas back in 1976.\\r\\n\\r\\nRobert De Niro puts in a tour-de-force performance as Travis Bickle, a Vietnam War veteran with symptoms of PTSD and paranoia, who becomes a New York City taxi driver because of his inability to sleep. Travis is one who is at odds with society, fed up with pimps, prostitutes, drug dealers, and all the other scum of the earth, he slowly works himself in his sleep deprived and drugged state to become a one man army ready to kill anyone he believes to be part of the problem.\\r\\n\\r\\nHis interactions with other cabbies, Betsy (Shepherd) a Presidential Candidate campaign worker, Iris a teenage prostitute (Foster), and her Pimp “Sport” (Keitel) fuels his destructive mission to rid New York City of its problems. His attempt at normalcy with Betsy, by taking her on date to a movie that disagrees with her sensibilities ends in disaster, mostly due to Travis’ supposed naivety about what is considered appropriate and tasteful entertainment.\\r\\n\\r\\nWhile plying his nightly trade as a NYC cabbie, he has some unusual encounters, including a fare from a fairly psychotically jealous man showing Travis the place where the man’s wife is cheating on him, and then a short encounter with Iris who gets in his cab, and then forced out by Sport, who throws Travis a dirty crumpled up twenty dollar note for the trouble, Travis then makes it his mission to rescue Iris from her situation while also making a menace of himself to the visiting Presidential candidate.\\r\\n\\r\\nThis film is still relevant in these times, as social media, and other such technological & society advancements have brought about a new degradation of values, with many wanting their fifteen minutes of fame by any means necessary, which now brings with it many who sell their souls to attain notoriety.\\r\\n\\r\\nI love De Niro's performance as Travis, its one that has many facets to it, in it is a man who is angry, naive, sleep deprived, lonely, a sociopath, and a killer.\\r\\n\\r\\nA scene in the Presidential campaign office where he is rebuffed by Betsy due to the terrible date experience, and ushered, and menaced by the opportunistic & snotty campaign co-worker Tom (Brooks), shows the range of De Niro's performance as he goes from apologetic, and sheepish to angry, and ready to fight. De Niro was nominated for the Best Actor Academy Award for this role.\\r\\n\\r\\nThe presentation on blu-ray is a solid one, PQ is nice, skin tones not waxy, and the AQ allowing the score, and surrounding noise subtleties to really shine through, it's very well handled for a source filmed in the mid 70's\", 'Robert De Niro is outstanding in this dark and gritty depiction of former marine \"Travis Bickle\". He spends his time, alone, driving his cab at night then watching seedy movies during the day. This relentless cycle is broken when he takes a shine to \"Betsy\" (Cybill Shepherd), a campaign worker for a would be US Presidential candidate. There is a glimmer of hope for him, as she agrees to go out with him for a movie - but when he takes her to his usual haunt for a Swedish film that perhaps wasn\\'t quite Ingmar Bergman, he ends up back at square one. Simultaneously, he takes a more protective interest in the young \"iris\" (Jodie Foster) - a teenage hooker who is being used abused by her pimp, and to that end he acquires some firearms with which he is perfectly proficient, and so finally starts to see a purpose for his hitherto rather rudderness existence. Director Martin Scorsese and veteran scorer Bernard Hermann have created a wonderfully convincing and evocative scenario emphasising the seediness of a night time New York in which De Niro is able to thrive as few other actors could. He exudes a sense of helplessness but also of decency; he has integrity almost in spite of the indifference of his city, his peers - and by the end, I was firmly in his corner. If you can see it up on a big screen, then do so - it lends a great deal to this wonderfully atmospheric and potent piece of cinema.'], 'release_date': '1976-02-09'}\n"
     ]
    }
   ],
   "source": [
    "result_1 = chain.invoke({\n",
    "    \"input\": \"Tell me about the film 'Taxi Driver'?\",\n",
    "    \"agent_scratchpad\": []\n",
    "})\n",
    "\n",
    "print(f\"Type of the result: {type(result_1)}\")\n",
    "print(f\"The tool executed: {result_1}\")\n",
    "print(f\"The observation executed: {search_movies(result_1.tool_input)}\")"
   ]
  },
  {
   "cell_type": "code",
   "execution_count": 160,
   "metadata": {},
   "outputs": [],
   "source": [
    "from langchain.agents.format_scratchpad import format_to_openai_functions"
   ]
  },
  {
   "cell_type": "code",
   "execution_count": 162,
   "metadata": {},
   "outputs": [
    {
     "data": {
      "text/plain": [
       "[AIMessage(content='', additional_kwargs={'function_call': {'arguments': '{\"query\":\"Taxi Driver\"}', 'name': 'search_movies'}}, response_metadata={'token_usage': {'completion_tokens': 16, 'prompt_tokens': 94, 'total_tokens': 110}, 'model_name': 'gpt-3.5-turbo', 'system_fingerprint': 'fp_3bc1b5746c', 'finish_reason': 'function_call', 'logprobs': None})]"
      ]
     },
     "execution_count": 162,
     "metadata": {},
     "output_type": "execute_result"
    }
   ],
   "source": [
    "result_1.message_log"
   ]
  },
  {
   "cell_type": "code",
   "execution_count": 163,
   "metadata": {},
   "outputs": [
    {
     "data": {
      "text/plain": [
       "[AIMessage(content='', additional_kwargs={'function_call': {'arguments': '{\"query\":\"Taxi Driver\"}', 'name': 'search_movies'}}, response_metadata={'token_usage': {'completion_tokens': 16, 'prompt_tokens': 94, 'total_tokens': 110}, 'model_name': 'gpt-3.5-turbo', 'system_fingerprint': 'fp_3bc1b5746c', 'finish_reason': 'function_call', 'logprobs': None}),\n",
       " FunctionMessage(content='{\"original_title\": \"Taxi Driver\", \"genres\": [\"Crime\", \"Drama\"], \"reviews\": [\"**Social outcast with a mohawk goes nutzoid**\\\\r\\\\n\\\\r\\\\nPorn obsessed loner, Travis Bickle, is a cabbie in New York. The story tells of his gradual descent into madness brought on by his inability to relate to those around him and a feeling of a lack of worth. Travis is essentially invisible - of no importance. Walton\\'s self imposed isolation preferable to getting along with the scum around him. One day he decides to change all of that and become _a somebody_ by murdering a politician.\\\\r\\\\n\\\\r\\\\nThis _nobody_ with the superiority complex has gone off the rails, for certain and it can only lead to bloodshed. A lot of it will be his own.\", \"Taxi Driver has had many things said about it, and I don\\'t wish to add to all that but it is the yardstick I measure all other films by, it is by far my favourite of all the films I have ever watched.\\\\r\\\\n\\\\r\\\\nIt\\'s brutal honesty and use of themes such as paranoia, mental health issues, and society degradation make it a film that has been imitated, and referenced since its opening in cinemas back in 1976.\\\\r\\\\n\\\\r\\\\nRobert De Niro puts in a tour-de-force performance as Travis Bickle, a Vietnam War veteran with symptoms of PTSD and paranoia, who becomes a New York City taxi driver because of his inability to sleep. Travis is one who is at odds with society, fed up with pimps, prostitutes, drug dealers, and all the other scum of the earth, he slowly works himself in his sleep deprived and drugged state to become a one man army ready to kill anyone he believes to be part of the problem.\\\\r\\\\n\\\\r\\\\nHis interactions with other cabbies, Betsy (Shepherd) a Presidential Candidate campaign worker, Iris a teenage prostitute (Foster), and her Pimp “Sport” (Keitel) fuels his destructive mission to rid New York City of its problems. His attempt at normalcy with Betsy, by taking her on date to a movie that disagrees with her sensibilities ends in disaster, mostly due to Travis’ supposed naivety about what is considered appropriate and tasteful entertainment.\\\\r\\\\n\\\\r\\\\nWhile plying his nightly trade as a NYC cabbie, he has some unusual encounters, including a fare from a fairly psychotically jealous man showing Travis the place where the man’s wife is cheating on him, and then a short encounter with Iris who gets in his cab, and then forced out by Sport, who throws Travis a dirty crumpled up twenty dollar note for the trouble, Travis then makes it his mission to rescue Iris from her situation while also making a menace of himself to the visiting Presidential candidate.\\\\r\\\\n\\\\r\\\\nThis film is still relevant in these times, as social media, and other such technological & society advancements have brought about a new degradation of values, with many wanting their fifteen minutes of fame by any means necessary, which now brings with it many who sell their souls to attain notoriety.\\\\r\\\\n\\\\r\\\\nI love De Niro\\'s performance as Travis, its one that has many facets to it, in it is a man who is angry, naive, sleep deprived, lonely, a sociopath, and a killer.\\\\r\\\\n\\\\r\\\\nA scene in the Presidential campaign office where he is rebuffed by Betsy due to the terrible date experience, and ushered, and menaced by the opportunistic & snotty campaign co-worker Tom (Brooks), shows the range of De Niro\\'s performance as he goes from apologetic, and sheepish to angry, and ready to fight. De Niro was nominated for the Best Actor Academy Award for this role.\\\\r\\\\n\\\\r\\\\nThe presentation on blu-ray is a solid one, PQ is nice, skin tones not waxy, and the AQ allowing the score, and surrounding noise subtleties to really shine through, it\\'s very well handled for a source filmed in the mid 70\\'s\", \"Robert De Niro is outstanding in this dark and gritty depiction of former marine \\\\\"Travis Bickle\\\\\". He spends his time, alone, driving his cab at night then watching seedy movies during the day. This relentless cycle is broken when he takes a shine to \\\\\"Betsy\\\\\" (Cybill Shepherd), a campaign worker for a would be US Presidential candidate. There is a glimmer of hope for him, as she agrees to go out with him for a movie - but when he takes her to his usual haunt for a Swedish film that perhaps wasn\\'t quite Ingmar Bergman, he ends up back at square one. Simultaneously, he takes a more protective interest in the young \\\\\"iris\\\\\" (Jodie Foster) - a teenage hooker who is being used abused by her pimp, and to that end he acquires some firearms with which he is perfectly proficient, and so finally starts to see a purpose for his hitherto rather rudderness existence. Director Martin Scorsese and veteran scorer Bernard Hermann have created a wonderfully convincing and evocative scenario emphasising the seediness of a night time New York in which De Niro is able to thrive as few other actors could. He exudes a sense of helplessness but also of decency; he has integrity almost in spite of the indifference of his city, his peers - and by the end, I was firmly in his corner. If you can see it up on a big screen, then do so - it lends a great deal to this wonderfully atmospheric and potent piece of cinema.\"], \"release_date\": \"1976-02-09\"}', name='search_movies')]"
      ]
     },
     "execution_count": 163,
     "metadata": {},
     "output_type": "execute_result"
    }
   ],
   "source": [
    "format_to_openai_functions([(result_1, search_movies(result_1.tool_input)), ])"
   ]
  },
  {
   "cell_type": "code",
   "execution_count": 164,
   "metadata": {},
   "outputs": [],
   "source": [
    "result2 = chain.invoke({\n",
    "    \"input\": \"what is the weather is sf?\", \n",
    "    \"agent_scratchpad\": format_to_openai_functions([(result_1, search_movies(result_1.tool_input)), ])\n",
    "})"
   ]
  },
  {
   "cell_type": "code",
   "execution_count": 168,
   "metadata": {},
   "outputs": [
    {
     "data": {
      "text/plain": [
       "AgentFinish(return_values={'output': 'The movie \"Taxi Driver\" was released on February 9, 1976. It falls under the genres of Crime and Drama. Here are some reviews about the movie:\\n\\n1. **Social outcast with a mohawk goes nutzoid**: The review describes Travis Bickle as a porn-obsessed loner who gradually descends into madness due to his inability to relate to those around him. The review praises the film for its brutal honesty and themes such as paranoia, mental health issues, and societal degradation.\\n\\n2. **Robert De Niro\\'s Outstanding Performance**: The review highlights Robert De Niro\\'s outstanding performance as Travis Bickle, a former marine who drives a cab at night and watches seedy movies during the day. It mentions his interactions with characters like Betsy and Iris, and how he acquires firearms to protect Iris from her abusive pimp.\\n\\nOverall, \"Taxi Driver\" is considered a classic film with a powerful performance by Robert De Niro.'}, log='The movie \"Taxi Driver\" was released on February 9, 1976. It falls under the genres of Crime and Drama. Here are some reviews about the movie:\\n\\n1. **Social outcast with a mohawk goes nutzoid**: The review describes Travis Bickle as a porn-obsessed loner who gradually descends into madness due to his inability to relate to those around him. The review praises the film for its brutal honesty and themes such as paranoia, mental health issues, and societal degradation.\\n\\n2. **Robert De Niro\\'s Outstanding Performance**: The review highlights Robert De Niro\\'s outstanding performance as Travis Bickle, a former marine who drives a cab at night and watches seedy movies during the day. It mentions his interactions with characters like Betsy and Iris, and how he acquires firearms to protect Iris from her abusive pimp.\\n\\nOverall, \"Taxi Driver\" is considered a classic film with a powerful performance by Robert De Niro.')"
      ]
     },
     "execution_count": 168,
     "metadata": {},
     "output_type": "execute_result"
    }
   ],
   "source": [
    "result2"
   ]
  },
  {
   "cell_type": "markdown",
   "metadata": {},
   "source": [
    "Concept of [RunnablePassthrough - Passing data through](https://python.langchain.com/docs/expression_language/how_to/passthrough)"
   ]
  },
  {
   "cell_type": "code",
   "execution_count": 199,
   "metadata": {},
   "outputs": [
    {
     "data": {
      "text/plain": [
       "{'passed': {'num': 1, 'ported': 2},\n",
       " 'extra': {'num': 1, 'ported': 2, 'mult': 3},\n",
       " 'modified_num': 2,\n",
       " 'modified_ported': 3}"
      ]
     },
     "execution_count": 199,
     "metadata": {},
     "output_type": "execute_result"
    }
   ],
   "source": [
    "from langchain_core.runnables import RunnableParallel, RunnablePassthrough\n",
    "\n",
    "runnable = RunnableParallel(\n",
    "    passed=RunnablePassthrough(),\n",
    "    extra=RunnablePassthrough.assign(mult=lambda x: x[\"num\"] * 3),\n",
    "    modified_num=lambda x: x[\"num\"] + 1,\n",
    "    modified_ported=lambda x: x[\"ported\"] + 1\n",
    ")\n",
    "\n",
    "result = runnable.invoke({\"num\": 1, \"ported\": 2})\n",
    "result"
   ]
  },
  {
   "cell_type": "markdown",
   "metadata": {},
   "source": [
    "Concept of [Agent Executor](https://python.langchain.com/docs/modules/agents/concepts#agentexecutor)"
   ]
  },
  {
   "cell_type": "code",
   "execution_count": 230,
   "metadata": {},
   "outputs": [],
   "source": [
    "# next_action = agent.get_action(...)\n",
    "# while next_action != AgentFinish:\n",
    "#     observation = run(next_action)\n",
    "#     next_action = agent.get_action(..., next_action, observation)\n",
    "# return next_action"
   ]
  },
  {
   "cell_type": "markdown",
   "metadata": {},
   "source": [
    "## Creating our agent"
   ]
  },
  {
   "cell_type": "markdown",
   "metadata": {},
   "source": [
    "Is required our tools, and functions from out previous section"
   ]
  },
  {
   "cell_type": "code",
   "execution_count": 216,
   "metadata": {},
   "outputs": [],
   "source": [
    "from langchain.prompts import ChatPromptTemplate\n",
    "input_prompt = ChatPromptTemplate.from_messages(\n",
    "    [(\"system\", \"You're a helpful assistant. Respond estricly to the following question:\"),\n",
    "    (\"human\", \"{input}\"),\n",
    "    MessagesPlaceholder(variable_name=\"agent_scratchpad\", optional=True)]\n",
    ")\n",
    "\n",
    "\n",
    "from langchain_openai import ChatOpenAI\n",
    "from langchain.agents.output_parsers import OpenAIFunctionsAgentOutputParser\n",
    "model = ChatOpenAI(temperature=0).bind(\n",
    "    functions=[formatted_tool_search_movies])\n",
    "\n",
    "\n",
    "from langchain_core.runnables import RunnablePassthrough\n",
    "from langchain.agents.format_scratchpad import format_to_openai_functions\n",
    "runnable_agent_scratchpad = RunnablePassthrough.assign(\n",
    "    agent_scratchpad = lambda x: format_to_openai_functions(x[\"intermediate_steps\"])\n",
    ")\n",
    "\n",
    "chain = runnable_agent_scratchpad | input_prompt | model | OpenAIFunctionsAgentOutputParser()"
   ]
  },
  {
   "cell_type": "code",
   "execution_count": 217,
   "metadata": {},
   "outputs": [],
   "source": [
    "from langchain.prompts import ChatPromptTemplate\n",
    "from langchain.schema.agent import AgentFinish\n",
    "\n",
    "\n",
    "input_description = \"\"\"\n",
    "This is the film information: \n",
    "{film_info}\n",
    "\"\"\"\n",
    "\n",
    "agent_prompt = ChatPromptTemplate.from_messages(\n",
    "    [(\"system\", \"You're a helpful assistant, with the given information about a film, you have to answer (included the reviews) in a english human-like given information about the following data in order: 1. Official name of the film and release year, 2. The genres of the film and 3.Summarize the reviews and order them from positive to negative, show the reviews separated and start with stars icon, the number of stars depend on the positivity from 1 to 5 stars.\"),\n",
    "    (\"human\",input_description)]\n",
    ")\n",
    "agent_model = ChatOpenAI(\n",
    "    temperature=0,\n",
    ")\n",
    "retriever_chain = agent_prompt | agent_model\n",
    "\n",
    "\n",
    "def run_agent(user_input):\n",
    "    intermediate_steps = []\n",
    "    while True:\n",
    "        result = chain.invoke({\n",
    "            \"input\": user_input, \n",
    "            \"intermediate_steps\": intermediate_steps\n",
    "        })\n",
    "        if isinstance(result, AgentFinish):\n",
    "            return result\n",
    "        tool_obtained = {\n",
    "             \"search_movies\": search_movies,\n",
    "        }[result.tool]\n",
    "        film_info = tool_obtained.run(result.tool_input)\n",
    "        observation = retriever_chain.invoke({\"film_info\": film_info}).content\n",
    "        intermediate_steps.append((result, observation))\n",
    "\n",
    "response = run_agent(\"Give me an overview of the comments and reviews of The lord of the rings, the fellowship film?\")"
   ]
  },
  {
   "cell_type": "code",
   "execution_count": 218,
   "metadata": {},
   "outputs": [
    {
     "name": "stdout",
     "output_type": "stream",
     "text": [
      "The type of the response: <class 'langchain_core.agents.AgentFinish'>\n",
      "\n",
      "\n",
      "The response: \n",
      "Here is an overview of the comments and reviews for \"The Lord of the Rings: The Fellowship of the Ring\":\n",
      "\n",
      "- The film is considered the first installment of the best fantasy epic in motion picture history by Empire Magazine.\n",
      "- It is described as captivating, fun to watch, and a true work of art.\n",
      "- Viewers find the movie epic, entertaining, and delightful, with a running time that flies by.\n",
      "- Some viewers express eagerness to watch the sequels and prequels in the franchise.\n",
      "- While some consider it the weakest of the three episodes, it is still praised for its adventure, performances, and magnificent score by Howard Shore.\n"
     ]
    }
   ],
   "source": [
    "print(f\"The type of the response: {type(response)}\\n\\n\")\n",
    "print(f\"The response: \\n{response.return_values['output']}\")"
   ]
  },
  {
   "cell_type": "markdown",
   "metadata": {},
   "source": [
    "## Agent exector utility with memory"
   ]
  },
  {
   "cell_type": "code",
   "execution_count": 261,
   "metadata": {},
   "outputs": [],
   "source": [
    "from langchain.memory import ConversationBufferMemory\n",
    "memory = ConversationBufferMemory(return_messages=True, memory_key=\"chat_history\")\n",
    "\n",
    "# we have to redefine the chain to include the memory in the input prompt\n",
    "from langchain.prompts import ChatPromptTemplate\n",
    "input_prompt_with_memory = ChatPromptTemplate.from_messages(\n",
    "    [(\"system\", \"You're a helpful assistant. Respond estricly to the following question:\"),\n",
    "     MessagesPlaceholder(variable_name=\"chat_history\"),\n",
    "    (\"human\", \"{input}\"),\n",
    "    MessagesPlaceholder(variable_name=\"agent_scratchpad\")]\n",
    ")\n",
    "chain = runnable_agent_scratchpad | input_prompt_with_memory | model | OpenAIFunctionsAgentOutputParser()\n",
    "\n",
    "\n",
    "from langchain.agents import AgentExecutor\n",
    "agent_executor = AgentExecutor(agent=chain, tools=[search_movies], verbose=True, memory=memory)"
   ]
  },
  {
   "cell_type": "code",
   "execution_count": 262,
   "metadata": {},
   "outputs": [
    {
     "name": "stdout",
     "output_type": "stream",
     "text": [
      "\n",
      "\n",
      "\u001b[1m> Entering new AgentExecutor chain...\u001b[0m\n",
      "\u001b[32;1m\u001b[1;3m\n",
      "Invoking: `search_movies` with `{'query': 'The lord of the rings, the fellowship'}`\n",
      "\n",
      "\n",
      "\u001b[0m\u001b[36;1m\u001b[1;3m{'original_title': 'The Lord of the Rings: The Fellowship of the Ring', 'genres': ['Adventure', 'Fantasy', 'Action'], 'reviews': ['Brooking no argument, history should quickly regard Peter Jackson’s The Fellowship Of The Ring as the first instalment of the best fantasy epic in motion picture history. This statement is worthy of investigation for several reasons.\\r\\n\\r\\nFellowship is indeed merely an opening salvo, and even after three hours in the dark you will likely exit the cinema ravenous with anticipation for the further two parts of the trilogy. Fellowship is also unabashedly rooted in the fantasy genre. Not to be confused with the techno-cool of good science fiction, nor even the cutesy charm of family fare like Harry Potter, the territory of Tolkien is clearly marked by goo and goblins and gobbledegook. Persons with an aversion to lines such as, “To the bridge of Khazad-dûm!” are as well to stay within the Shire-like comforts of home (their loss).\\r\\n\\r\\nWith those caveats in place, it bears repeating: fantasy does not come finer. There are electrifying moments — notably the computer-assisted swooping camera through Isengard as it transforms into a factory for evil — when Jackson’s flight of fancy approaches the sublime as the romantic poets would understand it: inspiring awe.\\r\\n\\r\\nLeaving aside the thorny issue of Tolkien die-hards and their inevitable gripes — “What no Tom Bombadil?” — Jackson’s screenplay (written in collaboration with Fran Walsh and Phillipa Boyens) is both bolder and more judicious than Steven Kloves’ surprisingly timid retread of Harry Potter. In particular, rescuing the romance of Arwen and Aragorn from the footnotes and the elevation of Saruman to all-action bad guy actually has a corrective influence on Tolkien’s often oblique and female-sparse source material.\\r\\n\\r\\nThere are problems, though. The three-hour running time is high on incident and low on discernible form. After successive detours to Elf habitats Rivendell (the watery home of Elrond) and Lothlórien (the forest home of the Lady Galadriel), the uninitiated might well ask why these crazy Elf kids can’t just live together and spare us all this attenuated dramatic structure.\\r\\n\\r\\nMore importantly, the action clearly climaxes in the desperate flight from the Mines Of Moria, where the largely seamless SFX is showcased in the best possible light — total darkness — but the narrative demands a different, downbeat ending. Indeed, but for some fine emotional playing from Bean, Mortensen, Astin and Wood, the final fight might feel like a particularly brutal game of paintball in Bluebell Wood. But then, the real battles are yet to come...\\r\\n\\r\\n\\r\\nVerdict - Putting formula blockbusters to shame, Fellowship is impeccably cast and constructed with both care and passion: this is a labour of love that never feels laboured. Emotional range and character depth ultimately take us beyond genre limitations, and it deserves to play as wide as a certain Mr. Potter.\\r\\n\\r\\n5/5\\r\\n\\r\\n- Colin Kennedy, Empire Magazine', 'An epic movie if I ever saw one. Captivating and just plain fun to watch. This movie is, indeed, art.', 'Tolkien’s adventure/fantasy LOOKS and SOUNDS fabulous, but is not without flaws.\\r\\n\\r\\nRELEASED 2001 and directed by Peter Jackson, “The Lord of the Rings: The Fellowship of the Ring” adapts the first part of JRR Tolkien’s popular fantasy trilogy about adventures on Middle-Earth. The story starts in the homeland of the Hobbits (innocent, diminutive humanoids) where Frodo (Elijah Wood) is instructed by the noble wizard Gandalf (Ian McKellen) to quickly leave the Shire with the powerful One Ring in his possession. Gandalf and Frodo are later accompanied by seven others, the titular ‘Fellowship of the Ring,’ to take the ring to the only place it can be destroyed, the fires of Mount Doom in Mordor. \\r\\n\\r\\nThe rest of the main cast include Sean Astin (Sam), Viggo Mortensen (Aragorn), Sean Bean (Boromir), Christopher Lee (Saruman), Orlando Bloom (Legolas), John Rhys-Davies (Gimli) and Hugo Weaving (Elrond).        \\r\\n\\r\\nThis three-hour fantasy features a diverse cast of colorful characters, quaint beings and settings, moments of genuine wonder, dark ee-vil creatures, high adventure, thrilling brutal action, a superb score, magnificent locations (forests, mountains, rivers, etc.), and wondrous CGI sets. The film LOOKS and SOUNDS so great that it’d be sinful to give it a lower rating. \\r\\n\\r\\nThere are problems, however, at least for those who aren’t uber-fans of Tolkien. For one, the opening is hindered by prologue that is overlong and convoluted, not to mention unnecessary. The bulk of it could’ve been conveyed later via flashback, which they do a little bit anyway. Secondly, the story takes forever to build any drive. Thirdly, except for maybe Frodo and Gandalf, the characters are shallow and I didn’t care much what happened to them. Fourthly, main protagonists getting seriously wounded and everyone else expressing their melodramatic concern gets redundant.  \\r\\n\\r\\nFifthly, there are only two females in the main cast (Liv Tyler as Arwen, a half-Elf princess, and Cate Blanchett as Galadriel, a royal Elf); unfortunately, their parts aren’t much more than glorified cameos. “Mythica: A Quest for Heroes” (2014) cost LESS THAN $100,000 to make, which is a mere fraction of the $93 million it cost to make this blockbuster and the filmmakers knew enough to include a couple of prominent babes as key protagonists in the story. \\r\\n\\r\\nDespite these negatives, “The Fellowship of the Ring” is the best of the trilogy and is a must for fantasy/adventure aficionados, especially Tolkien fans.                      \\r\\n\\r\\nTHE MOVIE RUNS 2 hours 58 minutes and was shot in New Zealand. \\r\\n\\r\\nGRADE: B/B- (6.5/10)', \"Overall, I give this four stars.  Not five, because some of the changes really bug me, as a long-time Tolkien fan, but a solid four.  \\r\\n\\r\\nThe casting, to start, was brilliant.  Sean Astin was the absolute perfect choice for Sam, and did a remarkable job bringing that character to life for us.  He really WAS Sam, in this role, in a very deep way.  I always liked his acting, but here, he showed how talented he actually is.  Just amazing.  Elijah Wood gives a great performance of Frodo, and those expressive eyes of his really add a lot of depth to the emotions the character goes through, which are such an important part of the story.  Billy Boyd and Dominic Monaghan both did great work, for our other two main hobbits.  Their smiles, their singing; just every aspect of these characters was so real.  Viggo Mortensen, of course, was excellent.  He's always good, and though I never would have pictures him as Aragorn, he delivered everything we could hope for.  Great choice for that role!  John Rhys-Davies, as expected, gave us the Gimli we wanted.  Phenomenal actor, and I can't imagine anyone doing that role better.  Orlando Bloom plays a convincing Legolas, and handles the nuances of being an elf quite well.  Sean Bean as Boromir was outstanding, bringing the strength of that character to life, and making us love him.  Then we have Ian McKellen, as Gandalf.  I could never have chosen someone for that role, but the casting folks hit a home run with this one.  Everything about his character was just right.  Literally everything.  I can't read the books without seeing these people in these roles now.  The rest of the cast ws good as well.\\r\\n\\r\\nThen we have the setting.  New Zealand has to have some of the most utterly gorgeous scenery on the planet.  Seeing it in these movies was great, and convincingly Middle Earth, and seeing more since, in other videos, just WOW!  Thanks, to the people of New Zealand, for allowing this to be filmed there!  \\r\\n\\r\\nThe sets were just fantastic.  Everything looked as good as I'd always hoped it would look, with all the charm, mystery, and wonder  Tolkien fan could hope for.  From Bag end to Rivendell to the vastness of \\r\\nMiddle Earth, everything we saw was just right.  \\r\\n\\r\\nThe only issues I had were some of the changes.  Yes, I know things don't always work in movies as they do in books, but when whole sections are just omitted, that bothers me.  It's not like the movies weren't long already!  That omitted section, with which Tolkien fans will be quite familiar, was a very important part of the plot!  I also didn't care for some of the other changes, and the way Arwen was used, the scene at the river being one example.  \\r\\n\\r\\nAll in all, though, this was a well done movie, and even though some things bug me, this film, and the rest of the series, will be viewed many times.  Classics, worth collecting and treasuring.\", 'Lost count how many times I\\'ve seen the \"The Fellowship of the Ring\" but still fantastic after all these years, epic on every level and just all around entertaining, the 3.5 running time just flies by. Will be watching \"The Two Towers\" either tonight or tomorrow followed by \"The Return of the King\". **4.75/5**', 'Well, I wouldn’t read this review if you are a true fan of fantasy adventure epics, because I am not. Don’t get me wrong, I like this movie and have watched it a few times over the years, but I have watched  (or read, for that matter) very little else in the fantasy  genre. I didn’t get too far into the Game of Thrones as the violent rapes got old for me fast. \\r\\n\\r\\nSo I watched this first entry of the Lord of the Rings trilogy as just a viewer, not a fan, and I liked it just fine. The complex plot held together well and the scenery was gorgeous. There was violence, but not gore, and for those who don’t like war movies, there wasn’t as much of it here as there is in the other two films of the trilogy.\\r\\n\\r\\nI gather the elfin roles for women were enlarged and brought to the fore, and why not; women were mostly good for setting mead and large pieces of rare meat down on tables in front of their warrior men.\\r\\n\\r\\nI must confess, I found it jarring that the warriors like Strider were so invincible, walking into a horde of sixty orcs and scattering them like toy soldiers with his sword. I know they are epic heroes, but if I’m an orc, I stand back and throw something or whatever, but it is similar to the old legends with semi-gods like Achilles, back when Hector was a pup.\\r\\n\\r\\nI am not going to compare the film to the book — I read it decades ago when I was in high school. It is worth watching and though real fans will take this with a large grain of salt, I think it is possibly the definitive adaptation of the book. (I need to watch the other two entries in the series before I say the same about those.) if you are among the 12% percent of movie goers who haven’t seen it, give it a try.', \"Magnificent! A great start to the franchise.\\r\\n\\r\\n<em>'The Lord of the Rings'</em> is yet another film series that I am incredibly late to viewing, at least I've finally got around to it... albeit almost twenty years on from this film's release.\\r\\n\\r\\n<em>'The Lord of the Rings: The Fellowship of the Ring'</em> is delightful. I never know what to expect from a film that goes on for nearly three hours, the pacing has to be near perfection for it to work - and boy does it here. The run time flew by, which is always a terrific sign.\\r\\n\\r\\nI love a load of things about this, the one that actually sticks out most is the outstanding score. Music can play a huge part in how much I enjoy a film, so I'm delighted to say that the score is here is fantastic. That is by no means the only positive, obviously.\\r\\n\\r\\nThe cast are excellent. Elijah Wood gives a strong performance in the lead role. I've seen Wood in others things down the years and have actually found him a bit hit-and-miss, but here he is very good. Elsewhere, I really enjoyed watching Viggo Mortensen's character.\\r\\n\\r\\nAway from those two, there are a whole host of noteworthy cast members. Orlando Bloom, or Will Turner to me, is involved, as are the likes of Ian McKellen and Sean Bean. I also liked Liv Tyler in her role.\\r\\n\\r\\nThe look of the film is spectacular, and has aged extremely well even to this day. Everything from the cinematography to the costumes is brilliant, those two things really make the film come alive - helped by the aforementioned score, of course.\\r\\n\\r\\nVery eager to check out the sequels, prequels and, eventually, the upcoming television series.\", 'This film may be perfect.\\r\\nBased on the fantasy world written by Tolkien, we see the halfling hobbits, the most unlikely of heroes, a breed of human type beings who indulge in pleasures, games, and fun, and do little evil.\\r\\nIn the same world are more powerful beings, some good, like the elves and wizards, some evil, like the orcs, trolls, and dragons, and some in between, like the dwarves and men.\\r\\nAnd one evil super being, Sauron, the second in command to the \"devil\" of this world called Middle Earth, and that devil called Melkor is now in chains and powerless, so Sauron rules all evil.\\r\\nThat said, we get a very faithful version to the book, only improved. This is the first of three segments called \"The Lord of the Rings\". The parts left out are parts best left out. Tom Bombadil, for example, along with his wife, represents a very Hitler like Aryan ideology of supremacy that Tolkien often engaged in. \\r\\nThe film begins with a narrative and action sequence that is awesome, and then goes into the \"status quo\" setting of the \"shire\" of hobbits, much like the status quo setting of films like \"Women of Dolwyn\".\\r\\nFrom there, we get an amazing story of four hobbits who embark on a journey of utmost importance, joined by a wizard, an elf, a dwarf, and two men.\\r\\nThe direction is stunning. The motivation even better explained than in the Tolkien books. This is a masterpiece.', 'So now that the picture houses across the UK are beginning to reopen, this is the third film I\\'ve settled down to watch in front of a huge big screen - and it\\'s a belter. You can only wonder at the sheer imagination of JRR Tolkien and of Peter Jackson, Fran Walsh & Philippa Boyens as they adeptly adapt this epic tale of power for a new generation. Certainly, it over-hams the accents - maybe just a few too many \"rrrs\" in \"Arrragorrrrn\" but otherwise it\\'s a feast for senses. When the hairy-footed Hobbit \"Bilbo\" (Sir Ian Holm) gets to eleventy-one he sets off to write his life-story with the elves. He leaves his possessions - including a mysterious ring - to Frodo (Elijah Wood). When visiting wizard \"Gandalf\" (Sir Ian McKellen) identifies it as the epitome of wickedness that puts all of their lives are in danger, \"Frodo\" and his lifelong friend \"Sam\" (Sean Astin) must flee their bucolic happiness. This first instalment of the trilogy tracks the journey of the hobbits as they meet \"Stryder\" (Viggo Mortensen) and together try to evade the pursuing wraith attempting to get to \"Elrond\" the Elvish king in \"Rivendell\" and decide what is best to do with this evil, seemingly indestructible talisman. Their only solution proves to be returning the ring to the lava-filled cavern of \"Mount Doom\" where it was forged: only there can it\\'s corruption be defeated. The brave hobbits, together with two men, an elf and a dwarf set out to accomplish this all but impossible task fighting the weather, evil orcs, malevolent magic and the harsh terrain on their treacherous way. It\\'s the ultimate fantasy adventure; that sticks to the spirit, if not to every word, of the original work. The effects both in make-up and from the computer are expertly applied creating a real sense of tension and peril that compliments, rather than subsumes, the actual action and beautiful cinematography of the New Zealand scenery through which our intrepid gang must travel. This is probably the weakest of the three episodes as it takes a good hour to get going; but once it does and the \"Fellowship\" takes firmer form with a superb John Howard-Davies; a handsome Orlando Bloom and even the usually wooden Sean Bean raises his game to give us as a truly cracking, at times quite scary adventure that is magnificently scored by the inspired Howard Shore. This is not really a film that works on the telly - however large the screen may be. To do justice to the creativity of all concerned it just has to be given the respect it deserves and be seen in the cinema. If you get a chance, you should go see it (again!).'], 'release_date': '2001-12-18'}\u001b[0m\u001b[32;1m\u001b[1;3mThe genres of the film \"The Lord of the Rings: The Fellowship of the Ring\" are Adventure, Fantasy, and Action.\u001b[0m\n",
      "\n",
      "\u001b[1m> Finished chain.\u001b[0m\n"
     ]
    },
    {
     "data": {
      "text/plain": [
       "{'input': 'Give me the genres of the fillm The lord of the rings, the fellowship film?',\n",
       " 'chat_history': [HumanMessage(content='Give me the genres of the fillm The lord of the rings, the fellowship film?'),\n",
       "  AIMessage(content='The genres of the film \"The Lord of the Rings: The Fellowship of the Ring\" are Adventure, Fantasy, and Action.')],\n",
       " 'output': 'The genres of the film \"The Lord of the Rings: The Fellowship of the Ring\" are Adventure, Fantasy, and Action.'}"
      ]
     },
     "execution_count": 262,
     "metadata": {},
     "output_type": "execute_result"
    }
   ],
   "source": [
    "agent_executor.invoke({\n",
    "    \"input\": \"Give me the genres of the fillm The lord of the rings, the fellowship film?\"}\n",
    "    )"
   ]
  },
  {
   "cell_type": "code",
   "execution_count": 263,
   "metadata": {},
   "outputs": [
    {
     "name": "stdout",
     "output_type": "stream",
     "text": [
      "\n",
      "\n",
      "\u001b[1m> Entering new AgentExecutor chain...\u001b[0m\n",
      "\u001b[32;1m\u001b[1;3m\n",
      "Invoking: `search_movies` with `{'query': 'The Lord of the Rings: The Fellowship of the Ring'}`\n",
      "\n",
      "\n",
      "\u001b[0m\u001b[36;1m\u001b[1;3m{'original_title': 'The Lord of the Rings: The Fellowship of the Ring', 'genres': ['Adventure', 'Fantasy', 'Action'], 'reviews': ['Brooking no argument, history should quickly regard Peter Jackson’s The Fellowship Of The Ring as the first instalment of the best fantasy epic in motion picture history. This statement is worthy of investigation for several reasons.\\r\\n\\r\\nFellowship is indeed merely an opening salvo, and even after three hours in the dark you will likely exit the cinema ravenous with anticipation for the further two parts of the trilogy. Fellowship is also unabashedly rooted in the fantasy genre. Not to be confused with the techno-cool of good science fiction, nor even the cutesy charm of family fare like Harry Potter, the territory of Tolkien is clearly marked by goo and goblins and gobbledegook. Persons with an aversion to lines such as, “To the bridge of Khazad-dûm!” are as well to stay within the Shire-like comforts of home (their loss).\\r\\n\\r\\nWith those caveats in place, it bears repeating: fantasy does not come finer. There are electrifying moments — notably the computer-assisted swooping camera through Isengard as it transforms into a factory for evil — when Jackson’s flight of fancy approaches the sublime as the romantic poets would understand it: inspiring awe.\\r\\n\\r\\nLeaving aside the thorny issue of Tolkien die-hards and their inevitable gripes — “What no Tom Bombadil?” — Jackson’s screenplay (written in collaboration with Fran Walsh and Phillipa Boyens) is both bolder and more judicious than Steven Kloves’ surprisingly timid retread of Harry Potter. In particular, rescuing the romance of Arwen and Aragorn from the footnotes and the elevation of Saruman to all-action bad guy actually has a corrective influence on Tolkien’s often oblique and female-sparse source material.\\r\\n\\r\\nThere are problems, though. The three-hour running time is high on incident and low on discernible form. After successive detours to Elf habitats Rivendell (the watery home of Elrond) and Lothlórien (the forest home of the Lady Galadriel), the uninitiated might well ask why these crazy Elf kids can’t just live together and spare us all this attenuated dramatic structure.\\r\\n\\r\\nMore importantly, the action clearly climaxes in the desperate flight from the Mines Of Moria, where the largely seamless SFX is showcased in the best possible light — total darkness — but the narrative demands a different, downbeat ending. Indeed, but for some fine emotional playing from Bean, Mortensen, Astin and Wood, the final fight might feel like a particularly brutal game of paintball in Bluebell Wood. But then, the real battles are yet to come...\\r\\n\\r\\n\\r\\nVerdict - Putting formula blockbusters to shame, Fellowship is impeccably cast and constructed with both care and passion: this is a labour of love that never feels laboured. Emotional range and character depth ultimately take us beyond genre limitations, and it deserves to play as wide as a certain Mr. Potter.\\r\\n\\r\\n5/5\\r\\n\\r\\n- Colin Kennedy, Empire Magazine', 'An epic movie if I ever saw one. Captivating and just plain fun to watch. This movie is, indeed, art.', 'Tolkien’s adventure/fantasy LOOKS and SOUNDS fabulous, but is not without flaws.\\r\\n\\r\\nRELEASED 2001 and directed by Peter Jackson, “The Lord of the Rings: The Fellowship of the Ring” adapts the first part of JRR Tolkien’s popular fantasy trilogy about adventures on Middle-Earth. The story starts in the homeland of the Hobbits (innocent, diminutive humanoids) where Frodo (Elijah Wood) is instructed by the noble wizard Gandalf (Ian McKellen) to quickly leave the Shire with the powerful One Ring in his possession. Gandalf and Frodo are later accompanied by seven others, the titular ‘Fellowship of the Ring,’ to take the ring to the only place it can be destroyed, the fires of Mount Doom in Mordor. \\r\\n\\r\\nThe rest of the main cast include Sean Astin (Sam), Viggo Mortensen (Aragorn), Sean Bean (Boromir), Christopher Lee (Saruman), Orlando Bloom (Legolas), John Rhys-Davies (Gimli) and Hugo Weaving (Elrond).        \\r\\n\\r\\nThis three-hour fantasy features a diverse cast of colorful characters, quaint beings and settings, moments of genuine wonder, dark ee-vil creatures, high adventure, thrilling brutal action, a superb score, magnificent locations (forests, mountains, rivers, etc.), and wondrous CGI sets. The film LOOKS and SOUNDS so great that it’d be sinful to give it a lower rating. \\r\\n\\r\\nThere are problems, however, at least for those who aren’t uber-fans of Tolkien. For one, the opening is hindered by prologue that is overlong and convoluted, not to mention unnecessary. The bulk of it could’ve been conveyed later via flashback, which they do a little bit anyway. Secondly, the story takes forever to build any drive. Thirdly, except for maybe Frodo and Gandalf, the characters are shallow and I didn’t care much what happened to them. Fourthly, main protagonists getting seriously wounded and everyone else expressing their melodramatic concern gets redundant.  \\r\\n\\r\\nFifthly, there are only two females in the main cast (Liv Tyler as Arwen, a half-Elf princess, and Cate Blanchett as Galadriel, a royal Elf); unfortunately, their parts aren’t much more than glorified cameos. “Mythica: A Quest for Heroes” (2014) cost LESS THAN $100,000 to make, which is a mere fraction of the $93 million it cost to make this blockbuster and the filmmakers knew enough to include a couple of prominent babes as key protagonists in the story. \\r\\n\\r\\nDespite these negatives, “The Fellowship of the Ring” is the best of the trilogy and is a must for fantasy/adventure aficionados, especially Tolkien fans.                      \\r\\n\\r\\nTHE MOVIE RUNS 2 hours 58 minutes and was shot in New Zealand. \\r\\n\\r\\nGRADE: B/B- (6.5/10)', \"Overall, I give this four stars.  Not five, because some of the changes really bug me, as a long-time Tolkien fan, but a solid four.  \\r\\n\\r\\nThe casting, to start, was brilliant.  Sean Astin was the absolute perfect choice for Sam, and did a remarkable job bringing that character to life for us.  He really WAS Sam, in this role, in a very deep way.  I always liked his acting, but here, he showed how talented he actually is.  Just amazing.  Elijah Wood gives a great performance of Frodo, and those expressive eyes of his really add a lot of depth to the emotions the character goes through, which are such an important part of the story.  Billy Boyd and Dominic Monaghan both did great work, for our other two main hobbits.  Their smiles, their singing; just every aspect of these characters was so real.  Viggo Mortensen, of course, was excellent.  He's always good, and though I never would have pictures him as Aragorn, he delivered everything we could hope for.  Great choice for that role!  John Rhys-Davies, as expected, gave us the Gimli we wanted.  Phenomenal actor, and I can't imagine anyone doing that role better.  Orlando Bloom plays a convincing Legolas, and handles the nuances of being an elf quite well.  Sean Bean as Boromir was outstanding, bringing the strength of that character to life, and making us love him.  Then we have Ian McKellen, as Gandalf.  I could never have chosen someone for that role, but the casting folks hit a home run with this one.  Everything about his character was just right.  Literally everything.  I can't read the books without seeing these people in these roles now.  The rest of the cast ws good as well.\\r\\n\\r\\nThen we have the setting.  New Zealand has to have some of the most utterly gorgeous scenery on the planet.  Seeing it in these movies was great, and convincingly Middle Earth, and seeing more since, in other videos, just WOW!  Thanks, to the people of New Zealand, for allowing this to be filmed there!  \\r\\n\\r\\nThe sets were just fantastic.  Everything looked as good as I'd always hoped it would look, with all the charm, mystery, and wonder  Tolkien fan could hope for.  From Bag end to Rivendell to the vastness of \\r\\nMiddle Earth, everything we saw was just right.  \\r\\n\\r\\nThe only issues I had were some of the changes.  Yes, I know things don't always work in movies as they do in books, but when whole sections are just omitted, that bothers me.  It's not like the movies weren't long already!  That omitted section, with which Tolkien fans will be quite familiar, was a very important part of the plot!  I also didn't care for some of the other changes, and the way Arwen was used, the scene at the river being one example.  \\r\\n\\r\\nAll in all, though, this was a well done movie, and even though some things bug me, this film, and the rest of the series, will be viewed many times.  Classics, worth collecting and treasuring.\", 'Lost count how many times I\\'ve seen the \"The Fellowship of the Ring\" but still fantastic after all these years, epic on every level and just all around entertaining, the 3.5 running time just flies by. Will be watching \"The Two Towers\" either tonight or tomorrow followed by \"The Return of the King\". **4.75/5**', 'Well, I wouldn’t read this review if you are a true fan of fantasy adventure epics, because I am not. Don’t get me wrong, I like this movie and have watched it a few times over the years, but I have watched  (or read, for that matter) very little else in the fantasy  genre. I didn’t get too far into the Game of Thrones as the violent rapes got old for me fast. \\r\\n\\r\\nSo I watched this first entry of the Lord of the Rings trilogy as just a viewer, not a fan, and I liked it just fine. The complex plot held together well and the scenery was gorgeous. There was violence, but not gore, and for those who don’t like war movies, there wasn’t as much of it here as there is in the other two films of the trilogy.\\r\\n\\r\\nI gather the elfin roles for women were enlarged and brought to the fore, and why not; women were mostly good for setting mead and large pieces of rare meat down on tables in front of their warrior men.\\r\\n\\r\\nI must confess, I found it jarring that the warriors like Strider were so invincible, walking into a horde of sixty orcs and scattering them like toy soldiers with his sword. I know they are epic heroes, but if I’m an orc, I stand back and throw something or whatever, but it is similar to the old legends with semi-gods like Achilles, back when Hector was a pup.\\r\\n\\r\\nI am not going to compare the film to the book — I read it decades ago when I was in high school. It is worth watching and though real fans will take this with a large grain of salt, I think it is possibly the definitive adaptation of the book. (I need to watch the other two entries in the series before I say the same about those.) if you are among the 12% percent of movie goers who haven’t seen it, give it a try.', \"Magnificent! A great start to the franchise.\\r\\n\\r\\n<em>'The Lord of the Rings'</em> is yet another film series that I am incredibly late to viewing, at least I've finally got around to it... albeit almost twenty years on from this film's release.\\r\\n\\r\\n<em>'The Lord of the Rings: The Fellowship of the Ring'</em> is delightful. I never know what to expect from a film that goes on for nearly three hours, the pacing has to be near perfection for it to work - and boy does it here. The run time flew by, which is always a terrific sign.\\r\\n\\r\\nI love a load of things about this, the one that actually sticks out most is the outstanding score. Music can play a huge part in how much I enjoy a film, so I'm delighted to say that the score is here is fantastic. That is by no means the only positive, obviously.\\r\\n\\r\\nThe cast are excellent. Elijah Wood gives a strong performance in the lead role. I've seen Wood in others things down the years and have actually found him a bit hit-and-miss, but here he is very good. Elsewhere, I really enjoyed watching Viggo Mortensen's character.\\r\\n\\r\\nAway from those two, there are a whole host of noteworthy cast members. Orlando Bloom, or Will Turner to me, is involved, as are the likes of Ian McKellen and Sean Bean. I also liked Liv Tyler in her role.\\r\\n\\r\\nThe look of the film is spectacular, and has aged extremely well even to this day. Everything from the cinematography to the costumes is brilliant, those two things really make the film come alive - helped by the aforementioned score, of course.\\r\\n\\r\\nVery eager to check out the sequels, prequels and, eventually, the upcoming television series.\", 'This film may be perfect.\\r\\nBased on the fantasy world written by Tolkien, we see the halfling hobbits, the most unlikely of heroes, a breed of human type beings who indulge in pleasures, games, and fun, and do little evil.\\r\\nIn the same world are more powerful beings, some good, like the elves and wizards, some evil, like the orcs, trolls, and dragons, and some in between, like the dwarves and men.\\r\\nAnd one evil super being, Sauron, the second in command to the \"devil\" of this world called Middle Earth, and that devil called Melkor is now in chains and powerless, so Sauron rules all evil.\\r\\nThat said, we get a very faithful version to the book, only improved. This is the first of three segments called \"The Lord of the Rings\". The parts left out are parts best left out. Tom Bombadil, for example, along with his wife, represents a very Hitler like Aryan ideology of supremacy that Tolkien often engaged in. \\r\\nThe film begins with a narrative and action sequence that is awesome, and then goes into the \"status quo\" setting of the \"shire\" of hobbits, much like the status quo setting of films like \"Women of Dolwyn\".\\r\\nFrom there, we get an amazing story of four hobbits who embark on a journey of utmost importance, joined by a wizard, an elf, a dwarf, and two men.\\r\\nThe direction is stunning. The motivation even better explained than in the Tolkien books. This is a masterpiece.', 'So now that the picture houses across the UK are beginning to reopen, this is the third film I\\'ve settled down to watch in front of a huge big screen - and it\\'s a belter. You can only wonder at the sheer imagination of JRR Tolkien and of Peter Jackson, Fran Walsh & Philippa Boyens as they adeptly adapt this epic tale of power for a new generation. Certainly, it over-hams the accents - maybe just a few too many \"rrrs\" in \"Arrragorrrrn\" but otherwise it\\'s a feast for senses. When the hairy-footed Hobbit \"Bilbo\" (Sir Ian Holm) gets to eleventy-one he sets off to write his life-story with the elves. He leaves his possessions - including a mysterious ring - to Frodo (Elijah Wood). When visiting wizard \"Gandalf\" (Sir Ian McKellen) identifies it as the epitome of wickedness that puts all of their lives are in danger, \"Frodo\" and his lifelong friend \"Sam\" (Sean Astin) must flee their bucolic happiness. This first instalment of the trilogy tracks the journey of the hobbits as they meet \"Stryder\" (Viggo Mortensen) and together try to evade the pursuing wraith attempting to get to \"Elrond\" the Elvish king in \"Rivendell\" and decide what is best to do with this evil, seemingly indestructible talisman. Their only solution proves to be returning the ring to the lava-filled cavern of \"Mount Doom\" where it was forged: only there can it\\'s corruption be defeated. The brave hobbits, together with two men, an elf and a dwarf set out to accomplish this all but impossible task fighting the weather, evil orcs, malevolent magic and the harsh terrain on their treacherous way. It\\'s the ultimate fantasy adventure; that sticks to the spirit, if not to every word, of the original work. The effects both in make-up and from the computer are expertly applied creating a real sense of tension and peril that compliments, rather than subsumes, the actual action and beautiful cinematography of the New Zealand scenery through which our intrepid gang must travel. This is probably the weakest of the three episodes as it takes a good hour to get going; but once it does and the \"Fellowship\" takes firmer form with a superb John Howard-Davies; a handsome Orlando Bloom and even the usually wooden Sean Bean raises his game to give us as a truly cracking, at times quite scary adventure that is magnificently scored by the inspired Howard Shore. This is not really a film that works on the telly - however large the screen may be. To do justice to the creativity of all concerned it just has to be given the respect it deserves and be seen in the cinema. If you get a chance, you should go see it (again!).'], 'release_date': '2001-12-18'}\u001b[0m\u001b[32;1m\u001b[1;3mHere are some reviews of the film \"The Lord of the Rings: The Fellowship of the Ring\":\n",
      "\n",
      "1. \"Brooking no argument, history should quickly regard Peter Jackson’s The Fellowship Of The Ring as the first instalment of the best fantasy epic in motion picture history. This statement is worthy of investigation for several reasons... Verdict - Putting formula blockbusters to shame, Fellowship is impeccably cast and constructed with both care and passion: this is a labour of love that never feels laboured. Emotional range and character depth ultimately take us beyond genre limitations, and it deserves to play as wide as a certain Mr. Potter. 5/5 - Colin Kennedy, Empire Magazine\"\n",
      "\n",
      "2. \"An epic movie if I ever saw one. Captivating and just plain fun to watch. This movie is, indeed, art.\"\n",
      "\n",
      "3. \"Overall, I give this four stars. Not five, because some of the changes really bug me, as a long-time Tolkien fan, but a solid four...\"\n",
      "\n",
      "4. \"Lost count how many times I've seen the 'The Fellowship of the Ring' but still fantastic after all these years, epic on every level and just all around entertaining, the 3.5 running time just flies by. Will be watching 'The Two Towers' either tonight or tomorrow followed by 'The Return of the King'. 4.75/5\"\n",
      "\n",
      "5. \"Well, I wouldn’t read this review if you are a true fan of fantasy adventure epics, because I am not. Don’t get me wrong, I like this movie and have watched it a few times over the years, but I have watched (or read, for that matter) very little else in the fantasy genre...\"\n",
      "\n",
      "6. \"Magnificent! A great start to the franchise... This film may be perfect... The direction is stunning. The motivation even better explained than in the Tolkien books. This is a masterpiece.\"\n",
      "\n",
      "7. \"So now that the picture houses across the UK are beginning to reopen, this is the third film I've settled down to watch in front of a huge big screen - and it's a belter...\"\n",
      "\n",
      "These are just a few snippets of the reviews for \"The Lord of the Rings: The Fellowship of the Ring.\"\u001b[0m\n",
      "\n",
      "\u001b[1m> Finished chain.\u001b[0m\n"
     ]
    },
    {
     "data": {
      "text/plain": [
       "{'input': 'And, what about the reviews?',\n",
       " 'chat_history': [HumanMessage(content='Give me the genres of the fillm The lord of the rings, the fellowship film?'),\n",
       "  AIMessage(content='The genres of the film \"The Lord of the Rings: The Fellowship of the Ring\" are Adventure, Fantasy, and Action.'),\n",
       "  HumanMessage(content='And, what about the reviews?'),\n",
       "  AIMessage(content='Here are some reviews of the film \"The Lord of the Rings: The Fellowship of the Ring\":\\n\\n1. \"Brooking no argument, history should quickly regard Peter Jackson’s The Fellowship Of The Ring as the first instalment of the best fantasy epic in motion picture history. This statement is worthy of investigation for several reasons... Verdict - Putting formula blockbusters to shame, Fellowship is impeccably cast and constructed with both care and passion: this is a labour of love that never feels laboured. Emotional range and character depth ultimately take us beyond genre limitations, and it deserves to play as wide as a certain Mr. Potter. 5/5 - Colin Kennedy, Empire Magazine\"\\n\\n2. \"An epic movie if I ever saw one. Captivating and just plain fun to watch. This movie is, indeed, art.\"\\n\\n3. \"Overall, I give this four stars. Not five, because some of the changes really bug me, as a long-time Tolkien fan, but a solid four...\"\\n\\n4. \"Lost count how many times I\\'ve seen the \\'The Fellowship of the Ring\\' but still fantastic after all these years, epic on every level and just all around entertaining, the 3.5 running time just flies by. Will be watching \\'The Two Towers\\' either tonight or tomorrow followed by \\'The Return of the King\\'. 4.75/5\"\\n\\n5. \"Well, I wouldn’t read this review if you are a true fan of fantasy adventure epics, because I am not. Don’t get me wrong, I like this movie and have watched it a few times over the years, but I have watched (or read, for that matter) very little else in the fantasy genre...\"\\n\\n6. \"Magnificent! A great start to the franchise... This film may be perfect... The direction is stunning. The motivation even better explained than in the Tolkien books. This is a masterpiece.\"\\n\\n7. \"So now that the picture houses across the UK are beginning to reopen, this is the third film I\\'ve settled down to watch in front of a huge big screen - and it\\'s a belter...\"\\n\\nThese are just a few snippets of the reviews for \"The Lord of the Rings: The Fellowship of the Ring.\"')],\n",
       " 'output': 'Here are some reviews of the film \"The Lord of the Rings: The Fellowship of the Ring\":\\n\\n1. \"Brooking no argument, history should quickly regard Peter Jackson’s The Fellowship Of The Ring as the first instalment of the best fantasy epic in motion picture history. This statement is worthy of investigation for several reasons... Verdict - Putting formula blockbusters to shame, Fellowship is impeccably cast and constructed with both care and passion: this is a labour of love that never feels laboured. Emotional range and character depth ultimately take us beyond genre limitations, and it deserves to play as wide as a certain Mr. Potter. 5/5 - Colin Kennedy, Empire Magazine\"\\n\\n2. \"An epic movie if I ever saw one. Captivating and just plain fun to watch. This movie is, indeed, art.\"\\n\\n3. \"Overall, I give this four stars. Not five, because some of the changes really bug me, as a long-time Tolkien fan, but a solid four...\"\\n\\n4. \"Lost count how many times I\\'ve seen the \\'The Fellowship of the Ring\\' but still fantastic after all these years, epic on every level and just all around entertaining, the 3.5 running time just flies by. Will be watching \\'The Two Towers\\' either tonight or tomorrow followed by \\'The Return of the King\\'. 4.75/5\"\\n\\n5. \"Well, I wouldn’t read this review if you are a true fan of fantasy adventure epics, because I am not. Don’t get me wrong, I like this movie and have watched it a few times over the years, but I have watched (or read, for that matter) very little else in the fantasy genre...\"\\n\\n6. \"Magnificent! A great start to the franchise... This film may be perfect... The direction is stunning. The motivation even better explained than in the Tolkien books. This is a masterpiece.\"\\n\\n7. \"So now that the picture houses across the UK are beginning to reopen, this is the third film I\\'ve settled down to watch in front of a huge big screen - and it\\'s a belter...\"\\n\\nThese are just a few snippets of the reviews for \"The Lord of the Rings: The Fellowship of the Ring.\"'}"
      ]
     },
     "execution_count": 263,
     "metadata": {},
     "output_type": "execute_result"
    }
   ],
   "source": [
    "agent_executor.invoke({\n",
    "    \"input\": \"And, what about the reviews?\"}\n",
    "    )"
   ]
  },
  {
   "cell_type": "markdown",
   "metadata": {},
   "source": []
  }
 ],
 "metadata": {
  "kernelspec": {
   "display_name": "Python 3",
   "language": "python",
   "name": "python3"
  },
  "language_info": {
   "codemirror_mode": {
    "name": "ipython",
    "version": 3
   },
   "file_extension": ".py",
   "mimetype": "text/x-python",
   "name": "python",
   "nbconvert_exporter": "python",
   "pygments_lexer": "ipython3",
   "version": "3.12.2"
  }
 },
 "nbformat": 4,
 "nbformat_minor": 2
}
