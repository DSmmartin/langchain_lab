{
 "cells": [
  {
   "cell_type": "code",
   "execution_count": 1,
   "metadata": {},
   "outputs": [
    {
     "name": "stdout",
     "output_type": "stream",
     "text": [
      "WARNING conda.gateways.disk.delete:unlink_or_rename_to_trash(182): Could not remove or rename /langchain_env/conda-meta/packaging-24.0-pyhd8ed1ab_0.json.  Please remove this file manually (you may need to reboot to free file handles)\n",
      "# packages in environment at /langchain_env:\n",
      "#\n",
      "# Name                    Version                   Build  Channel\n",
      "langchain                 0.1.13                   pypi_0    pypi\n",
      "langchain-community       0.0.29                   pypi_0    pypi\n",
      "langchain-core            0.1.36                   pypi_0    pypi\n",
      "langchain-experimental    0.0.55                   pypi_0    pypi\n",
      "langchain-openai          0.1.1                    pypi_0    pypi\n",
      "langchain-text-splitters  0.0.1                    pypi_0    pypi\n"
     ]
    }
   ],
   "source": [
    "!conda list langchain"
   ]
  },
  {
   "cell_type": "markdown",
   "metadata": {},
   "source": [
    "# 1.OpenAI Function Calling"
   ]
  },
  {
   "cell_type": "code",
   "execution_count": 2,
   "metadata": {},
   "outputs": [],
   "source": [
    "import openai\n",
    "from openai import OpenAI\n",
    "import os\n",
    "openai.__version__\n",
    "\n",
    "client = OpenAI(\n",
    "    api_key=os.environ.get(\"OPENAI_API_KEY\"),\n",
    ")"
   ]
  },
  {
   "cell_type": "code",
   "execution_count": 3,
   "metadata": {},
   "outputs": [],
   "source": [
    "import json\n",
    "\n",
    "# Example dummy function hard coded to return the same weather\n",
    "# In production, this could be your backend API or an external API\n",
    "def get_current_weather(location, unit=\"fahrenheit\"):\n",
    "    \"\"\"Get the current weather in a given location\"\"\"\n",
    "    weather_info = {\n",
    "        \"location\": location,\n",
    "        \"temperature\": \"72\",\n",
    "        \"unit\": unit,\n",
    "        \"forecast\": [\"sunny\", \"windy\"],\n",
    "    }\n",
    "    return json.dumps(weather_info)"
   ]
  },
  {
   "cell_type": "code",
   "execution_count": 4,
   "metadata": {},
   "outputs": [],
   "source": [
    "# define a function\n",
    "functions = [\n",
    "    {\n",
    "        \"name\": \"get_current_weather\",\n",
    "        \"description\": \"Get the current weather in a given location\",\n",
    "        \"parameters\": {\n",
    "            \"type\": \"object\",\n",
    "            \"properties\": {\n",
    "                \"location\": {\n",
    "                    \"type\": \"string\",\n",
    "                    \"description\": \"The city and state, e.g. San Francisco, CA\",\n",
    "                },\n",
    "                \"unit\": {\"type\": \"string\", \"enum\": [\"celsius\", \"fahrenheit\"]},\n",
    "            },\n",
    "            \"required\": [\"location\"],\n",
    "        },\n",
    "    }\n",
    "]"
   ]
  },
  {
   "cell_type": "code",
   "execution_count": 5,
   "metadata": {},
   "outputs": [],
   "source": [
    "messages = [\n",
    "    {\n",
    "        \"role\": \"user\",\n",
    "        \"content\": \"What's the weather like in Boston?\"\n",
    "    }\n",
    "]"
   ]
  },
  {
   "cell_type": "code",
   "execution_count": 6,
   "metadata": {},
   "outputs": [],
   "source": [
    "import os\n",
    "\n",
    "chat_completion = client.chat.completions.create(\n",
    "    messages=messages,\n",
    "    model=\"gpt-3.5-turbo\",\n",
    "    functions=functions,\n",
    "    function_call = \"none\"\n",
    ")"
   ]
  },
  {
   "cell_type": "code",
   "execution_count": 7,
   "metadata": {},
   "outputs": [
    {
     "data": {
      "text/plain": [
       "ChatCompletion(id='chatcmpl-98OGGnWJrb081Ypdu6tKDPpRolIot', choices=[Choice(finish_reason='stop', index=0, logprobs=None, message=ChatCompletionMessage(content='I can help you with that. Let me check the current weather in Boston for you.', role='assistant', function_call=None, tool_calls=None))], created=1711786912, model='gpt-3.5-turbo-0125', object='chat.completion', system_fingerprint='fp_b28b39ffa8', usage=CompletionUsage(completion_tokens=18, prompt_tokens=83, total_tokens=101))"
      ]
     },
     "execution_count": 7,
     "metadata": {},
     "output_type": "execute_result"
    }
   ],
   "source": [
    "chat_completion"
   ]
  },
  {
   "cell_type": "code",
   "execution_count": 8,
   "metadata": {},
   "outputs": [],
   "source": [
    "message = chat_completion.choices[0].message"
   ]
  },
  {
   "cell_type": "code",
   "execution_count": 9,
   "metadata": {},
   "outputs": [],
   "source": [
    "message.function_call"
   ]
  },
  {
   "cell_type": "markdown",
   "metadata": {},
   "source": [
    "# 2.LangChain Expression Language (LCEL)"
   ]
  },
  {
   "cell_type": "code",
   "execution_count": 10,
   "metadata": {},
   "outputs": [],
   "source": [
    "from langchain.prompts import ChatPromptTemplate\n",
    "from langchain_openai import ChatOpenAI\n",
    "from langchain.schema.output_parser import StrOutputParser"
   ]
  },
  {
   "cell_type": "markdown",
   "metadata": {},
   "source": [
    "#### Simple chain"
   ]
  },
  {
   "cell_type": "code",
   "execution_count": 11,
   "metadata": {},
   "outputs": [],
   "source": [
    "prompt = ChatPromptTemplate.from_template(\n",
    "    \"tell me a short joke about {topic}\"\n",
    ")\n",
    "model = ChatOpenAI()\n",
    "output_parser = StrOutputParser()"
   ]
  },
  {
   "cell_type": "code",
   "execution_count": 12,
   "metadata": {},
   "outputs": [],
   "source": [
    "chain = prompt | model | output_parser"
   ]
  },
  {
   "cell_type": "code",
   "execution_count": 13,
   "metadata": {},
   "outputs": [
    {
     "data": {
      "text/plain": [
       "'Why did the chicken join a band? Because it had the drumsticks!'"
      ]
     },
     "execution_count": 13,
     "metadata": {},
     "output_type": "execute_result"
    }
   ],
   "source": [
    "chain.invoke({\"topic\": \"chicken\"})"
   ]
  },
  {
   "cell_type": "markdown",
   "metadata": {},
   "source": [
    "#### Link a more complex chain language expression"
   ]
  },
  {
   "cell_type": "code",
   "execution_count": 14,
   "metadata": {},
   "outputs": [],
   "source": [
    "from langchain_openai import OpenAIEmbeddings\n",
    "from langchain.vectorstores import DocArrayInMemorySearch"
   ]
  },
  {
   "cell_type": "code",
   "execution_count": 15,
   "metadata": {},
   "outputs": [
    {
     "name": "stderr",
     "output_type": "stream",
     "text": [
      "/langchain_env/lib/python3.12/site-packages/pydantic/_migration.py:283: UserWarning: `pydantic.error_wrappers:ValidationError` has been moved to `pydantic:ValidationError`.\n",
      "  warnings.warn(f'`{import_path}` has been moved to `{new_location}`.')\n"
     ]
    }
   ],
   "source": [
    "vectorstore = DocArrayInMemorySearch.from_texts(\n",
    "    [\"harrison worked at kensho\", \"bears like to eat honey\"],\n",
    "    embedding=OpenAIEmbeddings()\n",
    ")\n",
    "retriever = vectorstore.as_retriever()"
   ]
  },
  {
   "cell_type": "code",
   "execution_count": 16,
   "metadata": {},
   "outputs": [
    {
     "data": {
      "text/plain": [
       "[Document(page_content='harrison worked at kensho'),\n",
       " Document(page_content='bears like to eat honey')]"
      ]
     },
     "execution_count": 16,
     "metadata": {},
     "output_type": "execute_result"
    }
   ],
   "source": [
    "retriever.get_relevant_documents(\"where did harrison work?\")"
   ]
  },
  {
   "cell_type": "code",
   "execution_count": 17,
   "metadata": {},
   "outputs": [],
   "source": [
    "template = \"\"\"Answer the question based only on the following context:\n",
    "{context}\n",
    "\n",
    "Question: {question}\n",
    "\"\"\"\n",
    "prompt = ChatPromptTemplate.from_template(template)"
   ]
  },
  {
   "cell_type": "code",
   "execution_count": 18,
   "metadata": {},
   "outputs": [],
   "source": [
    "from langchain.schema.runnable import RunnableMap"
   ]
  },
  {
   "cell_type": "code",
   "execution_count": 19,
   "metadata": {},
   "outputs": [],
   "source": [
    "chain = RunnableMap({\n",
    "    \"context\": lambda x: retriever.get_relevant_documents(x[\"question\"]),\n",
    "    \"question\": lambda x: x[\"question\"]\n",
    "}) | prompt | model | output_parser"
   ]
  },
  {
   "cell_type": "code",
   "execution_count": 20,
   "metadata": {},
   "outputs": [
    {
     "data": {
      "text/plain": [
       "'Harrison worked at Kensho.'"
      ]
     },
     "execution_count": 20,
     "metadata": {},
     "output_type": "execute_result"
    }
   ],
   "source": [
    "chain.invoke({\"question\": \"where did harrison work?\"})"
   ]
  },
  {
   "cell_type": "code",
   "execution_count": 21,
   "metadata": {},
   "outputs": [],
   "source": [
    "inputs = RunnableMap({\n",
    "    \"context\": lambda x: retriever.get_relevant_documents(x[\"question\"]),\n",
    "    \"question\": lambda x: x[\"question\"]\n",
    "})"
   ]
  },
  {
   "cell_type": "code",
   "execution_count": 22,
   "metadata": {},
   "outputs": [
    {
     "data": {
      "text/plain": [
       "{'context': [Document(page_content='harrison worked at kensho'),\n",
       "  Document(page_content='bears like to eat honey')],\n",
       " 'question': 'where did harrison work?'}"
      ]
     },
     "execution_count": 22,
     "metadata": {},
     "output_type": "execute_result"
    }
   ],
   "source": [
    "inputs.invoke({\"question\": \"where did harrison work?\"})"
   ]
  },
  {
   "cell_type": "markdown",
   "metadata": {},
   "source": [
    "#### Bind"
   ]
  },
  {
   "cell_type": "code",
   "execution_count": 28,
   "metadata": {},
   "outputs": [],
   "source": [
    "functions = [\n",
    "    {\n",
    "        \"name\": \"pet_care\",\n",
    "        \"description\": \"Get information about caring for a pet\",\n",
    "        \"parameters\": {\n",
    "            \"type\": \"object\",\n",
    "            \"properties\": {\n",
    "                \"pet_care_type\": {\n",
    "                    \"type\": \"string\",\n",
    "                    \"description\": \"The type care you want to know about, e.g. feeding, grooming\",\n",
    "                },\n",
    "            },\n",
    "        },\n",
    "        \"required\": [\"pet_care_type\"],\n",
    "    }\n",
    "]"
   ]
  },
  {
   "cell_type": "code",
   "execution_count": 29,
   "metadata": {},
   "outputs": [],
   "source": [
    "prompt = ChatPromptTemplate.from_messages(\n",
    "    [\n",
    "        (\"human\", \"{input}\")\n",
    "    ]\n",
    ")\n",
    "\n",
    "model = ChatOpenAI(temperature=0).bind(functions=functions)"
   ]
  },
  {
   "cell_type": "code",
   "execution_count": 30,
   "metadata": {},
   "outputs": [],
   "source": [
    "runnable = prompt | model"
   ]
  },
  {
   "cell_type": "code",
   "execution_count": 31,
   "metadata": {},
   "outputs": [
    {
     "data": {
      "text/plain": [
       "AIMessage(content='', additional_kwargs={'function_call': {'arguments': '{\"pet_care_type\":\"feeding\"}', 'name': 'pet_care'}}, response_metadata={'token_usage': {'completion_tokens': 18, 'prompt_tokens': 77, 'total_tokens': 95}, 'model_name': 'gpt-3.5-turbo', 'system_fingerprint': 'fp_3bc1b5746c', 'finish_reason': 'function_call', 'logprobs': None})"
      ]
     },
     "execution_count": 31,
     "metadata": {},
     "output_type": "execute_result"
    }
   ],
   "source": [
    "runnable.invoke({\"input\": \"I want to know how to feed my pet\"})"
   ]
  },
  {
   "cell_type": "markdown",
   "metadata": {},
   "source": [
    "#### Fallbacks"
   ]
  },
  {
   "cell_type": "code",
   "execution_count": 47,
   "metadata": {},
   "outputs": [],
   "source": [
    "from langchain_openai import ChatOpenAI\n",
    "import json"
   ]
  },
  {
   "cell_type": "code",
   "execution_count": 83,
   "metadata": {},
   "outputs": [],
   "source": [
    "simple_model = ChatOpenAI(\n",
    "    temperature=0,\n",
    "    max_tokens=1000,\n",
    "    model=\"gpt-3.5-turbo\"\n",
    ")\n",
    "\n",
    "simple_chain = simple_model | StrOutputParser() | json.loads\n",
    "simple_chain_error = simple_model | json.loads"
   ]
  },
  {
   "cell_type": "code",
   "execution_count": 84,
   "metadata": {},
   "outputs": [],
   "source": [
    "challenge = \"write three authors who wrote about the american revolution in a json blob\""
   ]
  },
  {
   "cell_type": "code",
   "execution_count": 86,
   "metadata": {},
   "outputs": [
    {
     "name": "stdout",
     "output_type": "stream",
     "text": [
      "{'authors': ['David McCullough', 'Joseph J. Ellis', 'Gordon S. Wood']}\n"
     ]
    }
   ],
   "source": [
    "from langchain_core.messages import HumanMessage, SystemMessage\n",
    "\n",
    "messages = [\n",
    "    SystemMessage(content=\"You're a helpful assistant\"),\n",
    "    HumanMessage(content=challenge),\n",
    "]\n",
    "\n",
    "simple_chain_with_fallback = simple_chain_error.with_fallbacks([simple_chain])\n",
    "authors = simple_chain_with_fallback.invoke(messages)\n",
    "print(authors)"
   ]
  },
  {
   "cell_type": "markdown",
   "metadata": {},
   "source": [
    "# 3.OpenAI Function Calling"
   ]
  },
  {
   "cell_type": "markdown",
   "metadata": {},
   "source": [
    "Some function calling, definition"
   ]
  },
  {
   "cell_type": "code",
   "execution_count": 2,
   "metadata": {},
   "outputs": [],
   "source": [
    "from typing import List, Dict\n",
    "from pydantic import BaseModel, Field\n",
    "\n",
    "class WeatherSearch(BaseModel):\n",
    "    \"\"\"Call this with an airport code to get the weather at that airport\"\"\"\n",
    "    airport_code: str = Field(description=\"airport code to get weather for\")"
   ]
  },
  {
   "cell_type": "code",
   "execution_count": 5,
   "metadata": {},
   "outputs": [
    {
     "data": {
      "text/plain": [
       "{'name': 'WeatherSearch',\n",
       " 'description': 'Call this with an airport code to get the weather at that airport',\n",
       " 'parameters': {'properties': {'airport_code': {'description': 'airport code to get weather for',\n",
       "    'type': 'string'}},\n",
       "  'required': ['airport_code'],\n",
       "  'type': 'object'}}"
      ]
     },
     "execution_count": 5,
     "metadata": {},
     "output_type": "execute_result"
    }
   ],
   "source": [
    "from langchain_core.utils.function_calling import convert_pydantic_to_openai_function\n",
    "\n",
    "wather_search_openai_function = convert_pydantic_to_openai_function(WeatherSearch)\n",
    "wather_search_openai_function"
   ]
  },
  {
   "cell_type": "markdown",
   "metadata": {},
   "source": [
    "Model building"
   ]
  },
  {
   "cell_type": "code",
   "execution_count": 6,
   "metadata": {},
   "outputs": [],
   "source": [
    "from langchain_openai import ChatOpenAI\n",
    "\n",
    "model = ChatOpenAI().bind(functions=[wather_search_openai_function])"
   ]
  },
  {
   "cell_type": "markdown",
   "metadata": {},
   "source": [
    "Input prompt"
   ]
  },
  {
   "cell_type": "code",
   "execution_count": 11,
   "metadata": {},
   "outputs": [],
   "source": [
    "from langchain.prompts import ChatPromptTemplate\n",
    "\n",
    "prompt = ChatPromptTemplate.from_messages(\n",
    "    [(\"system\", \"You're a helpful assistant\"),\n",
    "    (\"user\", \"{input}\")]\n",
    ")"
   ]
  },
  {
   "cell_type": "markdown",
   "metadata": {},
   "source": [
    "Create our chain based on LCEL"
   ]
  },
  {
   "cell_type": "code",
   "execution_count": 12,
   "metadata": {},
   "outputs": [],
   "source": [
    "chain = prompt | model "
   ]
  },
  {
   "cell_type": "markdown",
   "metadata": {},
   "source": [
    "Chain execution"
   ]
  },
  {
   "cell_type": "code",
   "execution_count": 14,
   "metadata": {},
   "outputs": [
    {
     "data": {
      "text/plain": [
       "AIMessage(content='', additional_kwargs={'function_call': {'arguments': '{\"airport_code\":\"JFK\"}', 'name': 'WeatherSearch'}}, response_metadata={'token_usage': {'completion_tokens': 17, 'prompt_tokens': 86, 'total_tokens': 103}, 'model_name': 'gpt-3.5-turbo', 'system_fingerprint': 'fp_b28b39ffa8', 'finish_reason': 'function_call', 'logprobs': None})"
      ]
     },
     "execution_count": 14,
     "metadata": {},
     "output_type": "execute_result"
    }
   ],
   "source": [
    "chain.invoke({\"input\", \"What's the weather like at J.F. Kenedy?\"})"
   ]
  },
  {
   "cell_type": "markdown",
   "metadata": {},
   "source": [
    "# 4.Tagging and extraction"
   ]
  },
  {
   "cell_type": "code",
   "execution_count": 16,
   "metadata": {},
   "outputs": [
    {
     "data": {
      "text/plain": [
       "{'name': 'People',\n",
       " 'description': \"A function that allows to obtain a list of people's names, ages, and hobbies.\",\n",
       " 'parameters': {'$defs': {'Person': {'description': \"A function that allows to obtain the person's name, age, and hobbies.\",\n",
       "    'properties': {'name': {'description': \"The person's name\",\n",
       "      'type': 'string'},\n",
       "     'age': {'description': \"The person's age\", 'type': 'integer'},\n",
       "     'hobbies': {'description': \"The person's hobbies\",\n",
       "      'items': {'type': 'string'},\n",
       "      'type': 'array'}},\n",
       "    'required': ['name', 'age', 'hobbies'],\n",
       "    'type': 'object'}},\n",
       "  'properties': {'people': {'description': \"List of people's names, ages, and hobbies\",\n",
       "    'items': {'description': \"A function that allows to obtain the person's name, age, and hobbies.\",\n",
       "     'properties': {'name': {'description': \"The person's name\",\n",
       "       'type': 'string'},\n",
       "      'age': {'description': \"The person's age\", 'type': 'integer'},\n",
       "      'hobbies': {'description': \"The person's hobbies\",\n",
       "       'items': {'type': 'string'},\n",
       "       'type': 'array'}},\n",
       "     'required': ['name', 'age', 'hobbies'],\n",
       "     'type': 'object'},\n",
       "    'type': 'array'}},\n",
       "  'required': ['people'],\n",
       "  'type': 'object'}}"
      ]
     },
     "execution_count": 16,
     "metadata": {},
     "output_type": "execute_result"
    }
   ],
   "source": [
    "from langchain_core.utils.function_calling import convert_pydantic_to_openai_function\n",
    "from pydantic import BaseModel, Field\n",
    "from typing import List, Dict\n",
    "\n",
    "\n",
    "class Person(BaseModel):\n",
    "    \"\"\"A function that allows to obtain the person's name, age, and hobbies.\"\"\"\n",
    "    name: str = Field(description=\"The person's name\")\n",
    "    age: int = Field(description=\"The person's age\")\n",
    "    hobbies: List[str] = Field(description=\"The person's hobbies\")\n",
    "\n",
    "class People(BaseModel):\n",
    "    \"\"\"A function that allows to obtain a list of people's names, ages, and hobbies.\"\"\"\n",
    "    people: List[Person] = Field(description=\"List of people's names, ages, and hobbies\")\n",
    "\n",
    "\n",
    "\n",
    "people_tagging_function = convert_pydantic_to_openai_function(People)\n",
    "people_tagging_function"
   ]
  },
  {
   "cell_type": "markdown",
   "metadata": {},
   "source": [
    "Model definition"
   ]
  },
  {
   "cell_type": "code",
   "execution_count": 17,
   "metadata": {},
   "outputs": [],
   "source": [
    "from langchain_openai import ChatOpenAI\n",
    "\n",
    "model = ChatOpenAI().bind(\n",
    "    functions=[people_tagging_function])"
   ]
  },
  {
   "cell_type": "markdown",
   "metadata": {},
   "source": [
    "Prompt input"
   ]
  },
  {
   "cell_type": "code",
   "execution_count": 55,
   "metadata": {},
   "outputs": [],
   "source": [
    "from langchain.prompts import ChatPromptTemplate\n",
    "\n",
    "prompt = ChatPromptTemplate.from_messages(\n",
    "    [(\"system\", \"You're a helpful assistant\"),\n",
    "    (\"human\", \"{input}\")]\n",
    ")"
   ]
  },
  {
   "cell_type": "markdown",
   "metadata": {},
   "source": [
    "Output list parser"
   ]
  },
  {
   "cell_type": "code",
   "execution_count": 56,
   "metadata": {},
   "outputs": [],
   "source": [
    "from langchain.output_parsers.openai_functions import JsonKeyOutputFunctionsParser\n",
    "\n",
    "output_parser = JsonKeyOutputFunctionsParser(key_name=\"people\")"
   ]
  },
  {
   "cell_type": "markdown",
   "metadata": {},
   "source": [
    "Chain definition"
   ]
  },
  {
   "cell_type": "markdown",
   "metadata": {},
   "source": [
    "The **regular_chain** just obtain from one review the data of my friends"
   ]
  },
  {
   "cell_type": "code",
   "execution_count": 57,
   "metadata": {},
   "outputs": [],
   "source": [
    "regular_chain = prompt | model | output_parser"
   ]
  },
  {
   "cell_type": "code",
   "execution_count": 58,
   "metadata": {},
   "outputs": [
    {
     "data": {
      "text/plain": [
       "[{'name': 'John', 'age': 25, 'hobbies': ['play basketball']}]"
      ]
     },
     "execution_count": 58,
     "metadata": {},
     "output_type": "execute_result"
    }
   ],
   "source": [
    "regular_chain.invoke({\"input\": \"my friend is John, he is 25 years old and he likes to play basketball\"})"
   ]
  },
  {
   "cell_type": "markdown",
   "metadata": {},
   "source": [
    "The **chain**, the final chain, obtain the data of my friends given list of reviews"
   ]
  },
  {
   "cell_type": "code",
   "execution_count": 59,
   "metadata": {},
   "outputs": [],
   "source": [
    "from langchain.schema.runnable import RunnableLambda\n",
    "\n",
    "prep = RunnableLambda(\n",
    "    lambda x: [{\"input\": review} for review in x]\n",
    ")"
   ]
  },
  {
   "cell_type": "code",
   "execution_count": 60,
   "metadata": {},
   "outputs": [],
   "source": [
    "def flatten(matrix):\n",
    "    flat_list = []\n",
    "    for row in matrix:\n",
    "        flat_list += row\n",
    "    return flat_list"
   ]
  },
  {
   "cell_type": "code",
   "execution_count": 61,
   "metadata": {},
   "outputs": [],
   "source": [
    "chain = prep | regular_chain.map() | flatten"
   ]
  },
  {
   "cell_type": "code",
   "execution_count": 62,
   "metadata": {},
   "outputs": [
    {
     "name": "stdout",
     "output_type": "stream",
     "text": [
      "[{'name': 'John', 'age': 25, 'hobbies': ['play soccer']}, {'name': 'Mary', 'age': 30, 'hobbies': ['reading books']}, {'name': 'Alex', 'age': 22, 'hobbies': ['play video games']}]\n"
     ]
    }
   ],
   "source": [
    "friends_reviews = [\n",
    "    \"I met John, who is 25 years old and likes to play soccer.\",\n",
    "    \"One of my best friends is Mary, who is 30 years old and enjoys reading books.\",\n",
    "    \"The first friend I made in college was Alex, who is 22 years old and loves to play video games.\"\n",
    "]\n",
    "\n",
    "friends = chain.invoke(friends_reviews)\n",
    "print(friends)"
   ]
  },
  {
   "cell_type": "code",
   "execution_count": 65,
   "metadata": {},
   "outputs": [
    {
     "data": {
      "text/plain": [
       "People(people=[Person(name='John', age=25, hobbies=['play soccer']), Person(name='Mary', age=30, hobbies=['reading books']), Person(name='Alex', age=22, hobbies=['play video games'])])"
      ]
     },
     "execution_count": 65,
     "metadata": {},
     "output_type": "execute_result"
    }
   ],
   "source": [
    "friends = People(people=[Person(**friend) for friend in friends])\n",
    "friends"
   ]
  },
  {
   "cell_type": "markdown",
   "metadata": {},
   "source": [
    "# 5.Tools & Routing"
   ]
  },
  {
   "cell_type": "markdown",
   "metadata": {},
   "source": [
    "#### My custom tool for search review of films"
   ]
  },
  {
   "cell_type": "code",
   "execution_count": 92,
   "metadata": {},
   "outputs": [],
   "source": [
    "import requests\n",
    "import json\n",
    "\n",
    "def get_id_movie(film_title: str):\n",
    "    parsed_title = film_title.replace(\" \", \"%20\")\n",
    "    url = f\"https://api.themoviedb.org/3/search/movie?query={parsed_title}&include_adult=false&language=en-US&page=1\"\n",
    "    headers = {\n",
    "        \"accept\": \"application/json\",\n",
    "        \"Authorization\": f\"Bearer {os.environ.get('TMDB_BEARER_TOKEN')}\"\n",
    "    }\n",
    "    response = requests.get(url, headers=headers)\n",
    "    return json.loads(response.text)['results'][0]['id']\n",
    "\n",
    "def get_movie_details(movie_id: int):\n",
    "    url = f\"https://api.themoviedb.org/3/movie/{str(movie_id)}?append_to_response=genre%2Creviews&language=en-US\"\n",
    "    headers = {\n",
    "        \"accept\": \"application/json\",\n",
    "        \"Authorization\": f\"Bearer {os.environ.get('TMDB_BEARER_TOKEN')}\"\n",
    "    }\n",
    "    response = requests.get(url, headers=headers)\n",
    "    response = json.loads(response.text)\n",
    "    original_title = response['original_title']\n",
    "    genres = [genre['name'] for genre in response['genres']]\n",
    "    reviews = [review['content'] for review in response['reviews']['results']]\n",
    "    return {\n",
    "        \"original_title\": original_title,\n",
    "        \"genres\": genres,\n",
    "        \"reviews\": reviews,\n",
    "        \"release_date\": response['release_date']\n",
    "    }"
   ]
  },
  {
   "cell_type": "code",
   "execution_count": 93,
   "metadata": {},
   "outputs": [
    {
     "data": {
      "text/plain": [
       "{'original_title': 'Dirty Harry',\n",
       " 'genres': ['Action', 'Crime', 'Thriller'],\n",
       " 'reviews': [\"More than iconography here in dynamite Siegel/Eastwood teaming. \\r\\n\\r\\nThe film opens with a shot of a memorial wall in praise of the San Francisco Police officers who lost their lives in the line of duty, a SFPD badge is prominent as the camera scrolls down the ream of names on the wall. Cut to a rooftop sniper shooting a girl taking a swim in a swimming pool, cut to the coolest looking cop you have ever seen making his way to the rooftop scene, he stands and surveys the whole of the San Francisco bay area, this is, his area, and we know we are in for a very special film indeed. \\r\\n\\r\\nDirty Harry is now something of an institution, the film that pushed the boundaries of cops versus bad guys movies, some of the film's dialogue became part of modern day speak, and it's the film that propelled Clint Eastwood into the stratosphere of super stardom. Often tagged as a fascist film, I think it's more a cynical look at the rights of criminals because Harry is everyone who has ever been a victim of crime, he will do what it takes to take down the criminals festering in society, you break the law and Harry will get you any way he can. Here Harry is on the trail of Scorpio, a ruthless sniper killing at random, Scorpio kidnaps a teenage girl and demands $200.000 from the city or she will die in the hole he has her buried in. Harry is just the man for the job of delivery boy and this sets the wheels in motion for what becomes a personal crusade for Harry to take Scorpio down at all costs. \\r\\n\\r\\nDirector Don Siegel crafts a masterpiece here, creating a western within the big city landscape, the pace is energetic at times yet reeling itself in to provide genuine suspense when needed. Siegel should also be praised for sticking by Andy Robinson as Scorpio, for it's an insanely great performance from him. Yet it might never had happened since Robinson was petrified of guns, but Siegel stood by him and coaxed him through it. The result is a maniacal turn that scares and amuses in equal measure - witness his mad singing during a bus kidnap scene, you will not know whether to laugh or be afraid. \\r\\n\\r\\nYet as good as Robinson is, he gives way to a seamless piece of magnificence from Eastwood as Harry Callahan, note perfect and enthusing the role with the right amount of dynamic cool and gusto, it's no surprise that the character became a cinematic legend after such a great acting performance. Finally I must mention the wonderful score from Lalo Schifrin, jazz/electro/beat combinations segue perfectly into each scene with maximum impact to cap off one of the finest films of the 70s, and if you don't believe me then you can go argue with Harry. 9/10\",\n",
       "  'The directing is remarkable but, the most interesting side of this film is the character created by Eastwood, a policeman who decides to take the law by his hand disregarding any kind of right or procedure.\\r\\n\\r\\nQuite like his characters in the far west ... but in nowadays U.S.\\r\\n\\r\\nThe story itself is, plainly, bad and grotesque.',\n",
       "  \"Recently I've considered drastically negatively re-appraising Clint Eastwood's work, both directorially and as a thespian, as a knee-jerk reaction to his constant defense of the more racially-bigoted face of conservative America, but because of what his work has meant to me as a cinephile over the years, plus in tribute to everyone else's work involved in this film, particularly director Don Siegel's, that simply wouldn't be fair.\\r\\n\\r\\nAs well, you're basically getting, boiled down in its 103-minute timespan, 45 years after the fact, the main dilemma facing the USA. Whose rights are more important--the good guys' or the bad guys'? If they're equal, should they be considered equal, and what does that mean to the law enforcement and judicial systems?\\r\\n\\r\\nQuite simply, THE most important American-made film of the past 50 years. NOT my very favourite (that's '2001: A Space Odyssey'), but the most significant.\\r\\n\\r\\nAnd it hasn't aged a single day because of it.\",\n",
       "  \"Surprisingly straightforward story-wise, but very enjoyable all the same.\\r\\n\\r\\n<em>'Dirty Harry'</em> is no doubt stylish, features an eye-catching plot and has a very good lead performance from Clint Eastwood; he really does own the role. With that noted, I was surprised at how simply the story unfolds. That's not necessarily a criticism, I just presumed it would've been more than just 'event one, event two, event three etc. ... the end'. I enjoyed it, which is all that truly matters.\\r\\n\\r\\nIt's, for me, an entertaining, solid film. I have no real issues with it.\",\n",
       "  \"I can't imagine anyone else playing Harry Callahan other than Clint Eastwood. He will always be an iconic character with his tough demeanour and his means to get justice no matter how many rules he needs to break. Some of the scenes at the start have nothing to do with the investigation and while feel quite unnecessary to the plot, they still bring entertainment and shows us just what type of character Harry is.  Andy Robinson is fantastic as Scorpio and while the investigation does take a little while to get going in the beginning, the cat and mouse game between the two really ramps up towards the end and I particularly loved the climax. Excellent film that still holds up well today.\\r\\n\\r\\n8/10\",\n",
       "  'This is one of these films that you can watch time and time again and still enjoy. Certainly, it\\'s not the best crime story ever committed to film: the actual plot is comparatively straightforward with little by way of anything subtle, but I doubt you will readily find a more charismatic leading man who manages to combine humour, menace and style than Clint Eastwood (\"Callahan\"). He is a no-nonsense cop who is on the trail of a seriously psychopathic serial killer. After a few red-herrings, we discover quite quickly who the perpetrator actually is - that chase isn\\'t really the point. It is what ensues now - a tense and suspenseful battle of wills between Eastwood and the wonderfully seedy, menacing and maddening Andrew Robinson whose performance here has to be up there with the best, all round, characterisations of any antagonist I\\'ve ever seen. Don Siegel keeps the action alive and the cast tightly knit; the dialogue - aside from the now infamous pithy quotes from \"Callahan\" - is potently sparing. The tension builds-up excellently using the cinematography of the city and a superb score from Lalo Shifrin whilst simultaneously exposing us to what is essentially the seamy, gritty underbelly of San Franciscan sub-culture. It is violent, brutal even - but never graphically. The imagery is designed to horrify but not, in my view, to scare. Eastwood expertly epitomises this cop - a maverick, almost vigilante, police officer and leaves us thanking the lord he is (sort of) on our side. Terrific film.'],\n",
       " 'release_date': '1971-12-23'}"
      ]
     },
     "execution_count": 93,
     "metadata": {},
     "output_type": "execute_result"
    }
   ],
   "source": [
    "# example of use\n",
    "harry_details = get_movie_details(get_id_movie(\"Dirty Harry\"))\n",
    "harry_details"
   ]
  },
  {
   "cell_type": "code",
   "execution_count": 75,
   "metadata": {},
   "outputs": [],
   "source": [
    "from langchain_core.pydantic_v1 import BaseModel, Field\n",
    "from langchain.agents import tool\n",
    "from langchain.tools.render import format_tool_to_openai_function\n",
    "\n",
    "class MovieSearch(BaseModel):\n",
    "    \"\"\"This is a search tool that allows you to search properties of a movie (release date, genres and some reviews).\"\"\"\n",
    "    query: str = Field(description=\"The movie you want to search for\")\n",
    "\n",
    "@tool(args_schema=MovieSearch)\n",
    "def search_movies(query: str):\n",
    "    \"\"\"This is a search tool that allows you to search properties of a movie (release date, genres and some reviews).\"\"\"\n",
    "    movie_id = get_id_movie(query)\n",
    "    return get_movie_details(movie_id)\n",
    "\n",
    "formatted_tool_search_movies = format_tool_to_openai_function(search_movies)"
   ]
  },
  {
   "cell_type": "markdown",
   "metadata": {},
   "source": [
    "Example use of the tool"
   ]
  },
  {
   "cell_type": "code",
   "execution_count": 76,
   "metadata": {},
   "outputs": [
    {
     "data": {
      "text/plain": [
       "AIMessage(content='', additional_kwargs={'function_call': {'arguments': '{\"query\":\"Shawshank Redemption\"}', 'name': 'search_movies'}}, response_metadata={'token_usage': {'completion_tokens': 18, 'prompt_tokens': 95, 'total_tokens': 113}, 'model_name': 'gpt-3.5-turbo', 'system_fingerprint': 'fp_b28b39ffa8', 'finish_reason': 'function_call', 'logprobs': None})"
      ]
     },
     "execution_count": 76,
     "metadata": {},
     "output_type": "execute_result"
    }
   ],
   "source": [
    "from langchain_openai import ChatOpenAI\n",
    "\n",
    "model = ChatOpenAI(temperature=0).bind(\n",
    "    functions=[formatted_tool_search_movies])\n",
    "\n",
    "model.invoke(\n",
    "    (\"human\", \"What is the genre of the film Shawshank Redemption?\")\n",
    ")"
   ]
  },
  {
   "cell_type": "code",
   "execution_count": 77,
   "metadata": {},
   "outputs": [
    {
     "data": {
      "text/plain": [
       "AIMessage(content='Hello! How can I assist you today?', response_metadata={'token_usage': {'completion_tokens': 10, 'prompt_tokens': 85, 'total_tokens': 95}, 'model_name': 'gpt-3.5-turbo', 'system_fingerprint': 'fp_3bc1b5746c', 'finish_reason': 'stop', 'logprobs': None})"
      ]
     },
     "execution_count": 77,
     "metadata": {},
     "output_type": "execute_result"
    }
   ],
   "source": [
    "model.invoke(\n",
    "    (\"human\", \"Hi!\")\n",
    ")"
   ]
  },
  {
   "cell_type": "markdown",
   "metadata": {},
   "source": [
    "#### Routing"
   ]
  },
  {
   "cell_type": "code",
   "execution_count": 87,
   "metadata": {},
   "outputs": [],
   "source": [
    "from langchain.prompts import ChatPromptTemplate\n",
    "\n",
    "input_prompt = ChatPromptTemplate.from_messages(\n",
    "    [(\"system\", \"You're a helpful assistant\"),\n",
    "    (\"human\", \"{input}\")]\n",
    ")"
   ]
  },
  {
   "cell_type": "code",
   "execution_count": 88,
   "metadata": {},
   "outputs": [],
   "source": [
    "from langchain.agents.output_parsers import OpenAIFunctionsAgentOutputParser"
   ]
  },
  {
   "cell_type": "code",
   "execution_count": 108,
   "metadata": {},
   "outputs": [],
   "source": [
    "from langchain.schema.agent import AgentFinish\n",
    "from langchain.prompts import ChatPromptTemplate\n",
    "\n",
    "input_description = \"\"\"\n",
    "This is the film information: \n",
    "{film_info}\n",
    "\"\"\"\n",
    "\n",
    "input_prompt_for_retriever = ChatPromptTemplate.from_messages(\n",
    "    [(\"system\", \"You're a helpful assistant, with the given information about a film, you have to answer (included the reviews) in a english human-like given information about the following data in order: 1. Official name of the film and release year, 2. The genres of the film and 3.Summarize the reviews and order them from positive to negative, show the reviews separated and start with stars icon, the number of stars depend on the positivity from 1 to 5 stars.\"),\n",
    "    (\"human\",input_description)]\n",
    ")\n",
    "\n",
    "retriever = ChatOpenAI(\n",
    "    model=\"gpt-4\"\n",
    ")\n",
    "\n",
    "def route(result):\n",
    "    if isinstance(result, AgentFinish):\n",
    "        return result.return_values['output']\n",
    "    else:\n",
    "        tools = {\n",
    "            \"search_movies\": search_movies,\n",
    "        }\n",
    "        film_info = tools[result.tool].run(result.tool_input)\n",
    "        retriever_chain = input_prompt_for_retriever | retriever\n",
    "        return retriever_chain.invoke({\"film_info\": film_info}).content"
   ]
  },
  {
   "cell_type": "code",
   "execution_count": 109,
   "metadata": {},
   "outputs": [],
   "source": [
    "chain = input_prompt | model | OpenAIFunctionsAgentOutputParser() | route"
   ]
  },
  {
   "cell_type": "code",
   "execution_count": 112,
   "metadata": {},
   "outputs": [
    {
     "name": "stdout",
     "output_type": "stream",
     "text": [
      "The official name of the film is \"The Lord of the Rings: The Fellowship of the Ring\" which was released in 2001. The film falls under the genres of Adventure, Fantasy, and Action.\n",
      "\n",
      "Here are the reviews, ordered from positive to negative:\n",
      "\n",
      "1. ⭐⭐⭐⭐⭐ - \"Putting formula blockbusters to shame, Fellowship is impeccably cast and constructed with both care and passion: this is a labour of love that never feels laboured. Emotional range and character depth ultimately take us beyond genre limitations, and it deserves to play as wide as a certain Mr. Potter.\" - Colin Kennedy, Empire Magazine\n",
      "\n",
      "2. ⭐⭐⭐⭐⭐ - \"This film may be perfect. Based on the fantasy world written by Tolkien, we see the halfling hobbits, the most unlikely of heroes, a breed of human type beings who indulge in pleasures, games, and fun, and do little evil.\"\n",
      "\n",
      "3. ⭐⭐⭐⭐⭐ - \"Magnificent! A great start to the franchise. 'The Lord of the Rings: The Fellowship of the Ring' is delightful. The cast are excellent. Elijah Wood gives a strong performance in the lead role. The look of the film is spectacular, and has aged extremely well even to this day.\"\n",
      "\n",
      "4. ⭐⭐⭐⭐ ¾ - \"Lost count how many times I've seen the 'The Fellowship of the Ring' but still fantastic after all these years, epic on every level and just all around entertaining, the 3.5 running time just flies by.\"\n",
      "\n",
      "5. ⭐⭐⭐⭐ - \"Overall, I give this four stars. Not five, because some of the changes really bug me, as a long-time Tolkien fan, but a solid four. The casting, to start, was brilliant.\"\n",
      "\n",
      "6. ⭐⭐⭐⭐ - \"An epic movie if I ever saw one. Captivating and just plain fun to watch. This movie is, indeed, art.\"\n",
      "\n",
      "7. ⭐⭐⭐½ - \"So now that the picture houses across the UK are beginning to reopen, this is the third film I've settled down to watch in front of a huge big screen - and it's a belter.\"\n",
      "\n",
      "8. ⭐⭐⭐ - \"Tolkien’s adventure/fantasy LOOKS and SOUNDS fabulous, but is not without flaws. Despite these negatives, 'The Fellowship of the Ring' is the best of the trilogy and is a must for fantasy/adventure aficionados, especially Tolkien fans.\"\n",
      "\n",
      "9. ⭐⭐⭐ - \"So I watched this first entry of the Lord of the Rings trilogy as just a viewer, not a fan, and I liked it just fine. The complex plot held together well and the scenery was gorgeous.\"\n",
      "\n",
      "10. ⭐⭐ - \"Well, I wouldn’t read this review if you are a true fan of fantasy adventure epics, because I am not.\"\n"
     ]
    }
   ],
   "source": [
    "response = chain.invoke({\"input\": \"What can you tell me about The lord of the rings, the fellowship film?\"})\n",
    "print(response)"
   ]
  },
  {
   "cell_type": "code",
   "execution_count": 104,
   "metadata": {},
   "outputs": [
    {
     "name": "stdout",
     "output_type": "stream",
     "text": [
      "Hello! How can I assist you today?\n"
     ]
    }
   ],
   "source": [
    "response = chain.invoke({\"input\": \"Hi!\"})\n",
    "print(response)"
   ]
  }
 ],
 "metadata": {
  "kernelspec": {
   "display_name": "Python 3",
   "language": "python",
   "name": "python3"
  },
  "language_info": {
   "codemirror_mode": {
    "name": "ipython",
    "version": 3
   },
   "file_extension": ".py",
   "mimetype": "text/x-python",
   "name": "python",
   "nbconvert_exporter": "python",
   "pygments_lexer": "ipython3",
   "version": "3.12.2"
  }
 },
 "nbformat": 4,
 "nbformat_minor": 2
}
